{
  "nbformat": 4,
  "nbformat_minor": 0,
  "metadata": {
    "colab": {
      "provenance": [],
      "authorship_tag": "ABX9TyO0F/lC64A+WkwMeU6BaTw+",
      "include_colab_link": true
    },
    "kernelspec": {
      "name": "python3",
      "display_name": "Python 3"
    },
    "language_info": {
      "name": "python"
    }
  },
  "cells": [
    {
      "cell_type": "markdown",
      "metadata": {
        "id": "view-in-github",
        "colab_type": "text"
      },
      "source": [
        "<a href=\"https://colab.research.google.com/github/rajan5639/Machine_learning/blob/main/SVM_and_Navieys_Assignment_.ipynb\" target=\"_parent\"><img src=\"https://colab.research.google.com/assets/colab-badge.svg\" alt=\"Open In Colab\"/></a>"
      ]
    },
    {
      "cell_type": "markdown",
      "source": [
        "# **Question 1 -20**"
      ],
      "metadata": {
        "id": "XSeOXfi742ZU"
      }
    },
    {
      "cell_type": "code",
      "execution_count": null,
      "metadata": {
        "id": "sbdyXJqA2mgJ"
      },
      "outputs": [],
      "source": [
        "'''\n",
        "\n",
        "Question 1. What is a Support Vector Machine (SVM)\n",
        "\n",
        "Answer:\n",
        "\n",
        "Support Vector Machine, commonly known as SVM, is a supervised machine learning algorithm that is widely used for classification tasks and, in some cases, for regression and outlier detection. It is one of the most powerful and reliable algorithms, especially when the data is high-dimensional.\n",
        "\n",
        "At its core, the idea behind SVM is to find a boundary, called a hyperplane, that best separates data points belonging to different classes. Among all possible hyperplanes that can separate the classes, SVM selects the one that has the largest margin. The margin is defined as the distance between the hyperplane and the closest data points from each class. These closest data points are known as support vectors. The reason for selecting the hyperplane with the largest margin is to ensure better generalization and robustness of the classifier on unseen data.\n",
        "\n",
        "To understand SVM, consider a simple example. Suppose we have a two-dimensional space where data points of two classes are plotted as red circles and blue squares. Our goal is to draw a straight line (a hyperplane in two dimensions) that separates the red and blue points. While many lines can separate the two classes, SVM will find the line where the margin is maximum and the data points that are closest to this line are as far as possible from it, but still correctly classified.\n",
        "\n",
        "Now, let us define some important terms:\n",
        "\n",
        "Hyperplane: It is a decision boundary that separates data points of different classes. In two dimensions, it is a line. In three dimensions, it is a plane. In higher dimensions, it is called a hyperplane.\n",
        "\n",
        "Margin: The margin is the distance between the hyperplane and the nearest data points from both classes. SVM aims to maximize this margin.\n",
        "\n",
        "Support Vectors: These are the data points that lie closest to the hyperplane. These points are most critical in defining the hyperplane and are used to compute the margin.\n",
        "\n",
        "\n",
        "\n",
        "\n",
        "\n",
        "Question 2. What is the difference between Hard Margin and Soft Margin SVM\n",
        "\n",
        "Answer:\n",
        "\n",
        "Support Vector Machine or SVM is a supervised learning algorithm that tries to find the best separating hyperplane between two classes. In ideal situations, the data from both classes can be separated perfectly using a straight line or a hyperplane. However, in real-world datasets, it is common to have overlapping classes, outliers, or noisy data. To handle such different scenarios, SVM uses two different approaches called Hard Margin and Soft Margin.\n",
        "\n",
        "Let us understand each one in detail and compare their differences.\n",
        "\n",
        "Hard Margin SVM:\n",
        "\n",
        "Hard Margin SVM is the original or classic version of Support Vector Machine. It assumes that the data is linearly separable, which means there exists at least one straight line or hyperplane that can perfectly separate the classes without any error. This means all data points must lie on the correct side of the margin and none should be misclassified.\n",
        "\n",
        "The main goal in Hard Margin SVM is to find the hyperplane that maximizes the margin between the closest data points from each class. This is done while ensuring that no point crosses into the wrong region. In other words, every training data point must be classified correctly.\n",
        "\n",
        "Mathematically, the condition for Hard Margin SVM is:\n",
        "\n",
        "For all data points, y multiplied by (w transpose x plus b) should be greater than or equal to 1\n",
        "\n",
        "Where w is the weight vector, x is the feature vector, b is the bias, and y is the class label which is either plus 1 or minus 1.\n",
        "\n",
        "\n",
        "\n",
        "Question 3. What is the mathematical intuition behind SVM\n",
        "\n",
        "Answer:\n",
        "\n",
        "The mathematical intuition behind Support Vector Machine or SVM is grounded in the idea of finding the best possible boundary that separates two classes of data in a high-dimensional space. This boundary is called a hyperplane. The key goal of SVM is to find a hyperplane that not only separates the classes but does so with the maximum possible margin. This margin is the distance between the hyperplane and the nearest data points from each class. These nearest points are called support vectors.\n",
        "\n",
        "Let us first understand what we mean by hyperplane and margin.\n",
        "\n",
        "A hyperplane in a two-dimensional space is simply a line. In three dimensions, it is a plane. In higher dimensions, it is called a hyperplane, which is a subspace of one dimension less than the space itself. For example, in a space with four features or variables, the hyperplane is a three-dimensional plane.\n",
        "\n",
        "Now imagine you have two classes of data points. SVM tries to draw a straight boundary between them in such a way that this boundary is far away from the closest points of both classes. The idea is that the further this boundary is from the data, the less likely it will make a mistake in classifying new points. This distance from the boundary to the closest point is called the margin, and SVM tries to maximize it.\n",
        "\n",
        "\n",
        "\n",
        "\n",
        "Question 4. What is the role of Lagrange Multipliers in SVM\n",
        "\n",
        "Answer:\n",
        "\n",
        "The role of Lagrange Multipliers in Support Vector Machine or SVM is central to solving the optimization problem that forms the foundation of the SVM model. SVM works by finding the best possible hyperplane that separates two classes with the largest margin. To do this, it needs to solve a constrained optimization problem. This problem is typically difficult to solve directly. That is why we use a mathematical technique called the Lagrange Multipliers method. This method helps convert the constrained optimization problem into a form that is easier to work with and can be solved more efficiently.\n",
        "\n",
        "Let us understand this in a step by step manner.\n",
        "\n",
        "First, we must know that the goal of SVM is to find a hyperplane that separates the two classes and has the maximum possible margin. This margin is defined by the distance between the hyperplane and the nearest data points from each class. These nearest data points are known as support vectors. The wider the margin, the better the model is expected to generalize on unseen data.\n",
        "\n",
        "Now, the hyperplane can be represented mathematically using a weight vector and a bias term. The decision rule for classifying a point is based on whether it lies on one side of the hyperplane or the other. If the point lies on one side, it is assigned one class, and if it lies on the other side, it is assigned the other class.\n",
        "\n",
        "The optimization problem is defined as minimizing the norm of the weight vector, which maximizes the margin, while making sure that each training data point is correctly classified. This condition for correct classification is defined using an inequality constraint. Specifically, for each training example, the product of the class label and the result of the decision function must be greater than or equal to one. This is the constraint that needs to be satisfied for every point.\n",
        "\n",
        "This results in a constrained optimization problem. Solving this type of problem requires a method that can handle both the objective function and the constraints. This is where Lagrange Multipliers come into play.\n",
        "\n",
        "Lagrange Multipliers are a mathematical tool used to solve constrained optimization problems. The idea is to create a new function called the Lagrangian. This function incorporates both the objective function and the constraints into a single expression. For SVM, the Lagrangian combines the function to minimize the norm of the weight vector and the constraint that each data point must be correctly classified.\n",
        "\n",
        "Each constraint has an associated Lagrange Multiplier. These multipliers are non negative values, and they determine how important each constraint is in the optimization process. The Lagrangian is constructed by subtracting the product of each multiplier and its corresponding constraint from the original objective function.\n",
        "\n",
        "The next step is to find the minimum of the Lagrangian function with respect to the weight vector and the bias, and at the same time, find the maximum of the function with respect to the Lagrange Multipliers. This process is called solving the dual problem of the original optimization problem.\n",
        "\n",
        "Solving the dual problem has several advantages. First, it simplifies the optimization process by removing the weight vector and bias from the formulation. The final\n",
        "\n",
        "\n",
        "\n",
        "\n",
        "Question 5. What are Support Vectors in SVM\n",
        "\n",
        "Answer:\n",
        "\n",
        "Support Vectors are the most important and influential data points in the Support Vector Machine or SVM algorithm. They are the data points that lie closest to the decision boundary or the hyperplane that separates the classes. These data points are used by the SVM algorithm to define and determine the position and orientation of the separating hyperplane. The name Support Vectors comes from the fact that they support or hold up the decision boundary. They are the backbone of the SVM model.\n",
        "\n",
        "To understand the concept more clearly, let us begin with the basic idea of what SVM does. The main goal of the Support Vector Machine is to find the best possible boundary or hyperplane that separates two classes in such a way that the margin between the classes is as wide as possible. The margin is the distance between the decision boundary and the nearest data points from each class. The wider the margin, the more confident the classifier is in making future predictions.\n",
        "\n",
        "Now imagine you have many data points in a two dimensional space. Some of them belong to one class and some to another. There are many possible lines or boundaries that could separate the two classes, but only one boundary maximizes the margin. The SVM algorithm focuses only on the data points that lie exactly on the edge of the margin. These are the support vectors. All the other points are ignored once the support vectors have been identified because they do not affect the final decision boundary.\n",
        "\n",
        "This is a unique feature of SVM. Unlike other algorithms that consider all the training points equally, SVM cares only about the few points that matter most — the ones that are closest to the boundary. These few points are sufficient to completely define the model.\n",
        "\n",
        "There are a few interesting properties of support vectors. First, they lie on or inside the margin. In the case of a hard margin SVM where the data is perfectly separable, support vectors lie exactly on the margin. In the case of soft margin SVM, where the data is not perfectly separable and some errors are allowed, support vectors can lie inside the margin or even\n",
        "\n",
        "\n",
        "\n",
        "\n",
        "\n",
        "Question 6. What is a Support Vector Classifier (SVC)\n",
        "\n",
        "Answer:\n",
        "\n",
        "A Support Vector Classifier, also known as SVC, is the actual implementation of the Support Vector Machine algorithm used for classification problems. It is a powerful supervised machine learning model that aims to classify data into different categories or labels. The goal of the Support Vector Classifier is to find the best decision boundary or hyperplane that separates the classes with the maximum possible margin. This margin is the distance between the boundary and the closest data points from each class. These closest points are called support vectors, and they play a key role in shaping the decision boundary.\n",
        "\n",
        "To understand the Support Vector Classifier in simple terms, let us start with a basic classification task. Suppose you have a set of data points where each point belongs to one of two categories. The job of the classifier is to draw a line or plane that separates the two categories as clearly as possible. But there are usually many ways to draw such a line. The Support Vector Classifier chooses the one that leaves the biggest gap between the categories. This gap is called the margin, and the wider it is, the better the classifier is expected to perform on new unseen data.\n",
        "\n",
        "The Support Vector Classifier works by solving an optimization problem. It tries to find a hyperplane in such a way that all the points on one side of the hyperplane belong to one class and all the points on the other side belong to the other class. The key idea is to find this hyperplane so that the margin is maximized. The optimization process uses a technique called Lagrange multipliers, which helps handle the constraints in the problem and leads to an efficient solution.\n",
        "\n",
        "There are two main types of Support Vector Classifiers based on how strictly the classifier separates the classes. The first type is called the hard margin SVC. This type is used when the data is perfectly separable, meaning that there is a clear boundary between the two classes without any overlap. In this case, the SVC finds a hyperplane that separates the classes with no errors. However, in real life, most data is not perfectly separable.\n",
        "\n",
        "That brings us to the second type, which is the soft margin SVC. This version of the classifier allows some data points to be on the wrong side of the margin or even misclassified. It introduces a parameter that controls the tradeoff between maximizing the margin and allowing a few classification errors. This makes the model more flexible\n",
        "\n",
        "\n",
        "\n",
        "\n",
        "\n",
        "\n",
        "\n",
        "\n",
        "Question 7. What is a Support Vector Regressor (SVR)\n",
        "\n",
        "Answer:\n",
        "\n",
        "Support Vector Regressor, often called SVR, is a type of machine learning model that is used for regression tasks. It is based on the same core concepts as Support Vector Machines, which are mainly used for classification. However, instead of predicting a class label, Support Vector Regressor predicts a continuous value. SVR applies the principles of support vectors and margin maximization to build a model that can accurately estimate numerical values from input data.\n",
        "\n",
        "To understand SVR better, let us first recall that in classification problems, we aim to find a boundary that separates data points into categories. In regression, our goal is different. Here, we want to find a function or a curve that best fits the data points and allows us to predict new values. The idea of SVR is to find such a function that fits the data as accurately as possible while being as simple as possible.\n",
        "\n",
        "The main concept behind SVR is to find a line or curve that passes through the data points in such a way that most of them fall within a certain margin of tolerance. This margin is defined using a parameter called epsilon. In simple terms, we do not care if the predicted value is not exactly correct, as long as it falls within this acceptable range defined by epsilon. If a data point lies outside this margin, it is considered an error, and the model tries to minimize such errors.\n",
        "\n",
        "In SVR, just like in SVM, the algorithm tries to keep the model simple by using a margin. It only pays attention to the data points that lie outside the margin. These points are known as support vectors. The model does not try to fit every single point exactly. Instead, it tries to keep most of the predictions within the epsilon margin. This helps in building a model that generalizes well and does not overfit the training\n",
        "\n",
        "\n",
        "\n",
        "\n",
        "\n",
        "Question 8. What is the Kernel Trick in SVM\n",
        "\n",
        "Answer:\n",
        "\n",
        "The kernel trick is a powerful and smart technique used in Support Vector Machines to handle situations where the data is not linearly separable. In simple words, it helps SVM to work well even when the data cannot be separated using a straight line or a flat plane. The kernel trick allows the algorithm to create more complex decision boundaries without increasing the computational cost too much.\n",
        "\n",
        "To understand the kernel trick, first we need to understand what it means for data to be linearly separable. Imagine you have a graph with two groups of points, one group marked as red and the other marked as blue. If you can draw a straight line between the two groups so that all red points are on one side and all blue points are on the other side, then the data is linearly separable. In such cases, a linear SVM can find that line and make accurate predictions.\n",
        "\n",
        "However, in many real world problems, the data is not so simple. The red and blue points may be mixed together in such a way that no straight line can separate them clearly. In such cases, we need to use a non linear method to separate them. This is where the kernel trick comes into play.\n",
        "\n",
        "The main idea of the kernel trick is to transform the original data into a higher dimensional space where it might become linearly separable. But instead of doing this transformation manually, which would be very time consuming and require a lot of memory, the kernel trick does it indirectly. It uses special functions, called kernel functions, that can compute the result of this transformation without actually performing it. This makes the process very efficient and fast.\n",
        "\n",
        "You can think of the kernel trick as a shortcut. It lets the SVM model work with complex non linear data as if it were working with simple linear data. The SVM algorithm does not even know that the data has been transformed. It just works with the output of the kernel function, which represents the inner product of data points in the higher dimensional space.\n",
        "\n",
        "There are different types of kernel functions that can be used depending on the type of data and the problem you are trying to solve. Some of the most common kernel functions are the linear kernel, the polynomial kernel, and the radial basis function kernel.\n",
        "\n",
        "The linear kernel is the simplest one. It does not actually transform the data and is used when the data is already linearly separable. The polynomial kernel transforms the data into a higher dimensional space using polynomial terms. It allows the model to learn curved decision boundaries. The radial basis function kernel is one of the most popular kernels. It transforms the data into an infinite dimensional space\n",
        "\n",
        "\n",
        "\n",
        "\n",
        "\n",
        "\n",
        "\n",
        "Question 9. Compare Linear Kernel, Polynomial Kernel, and RBF Kernel\n",
        "\n",
        "Answer:\n",
        "\n",
        "In Support Vector Machines, different types of kernels are used to transform data into a higher dimensional space where it becomes easier to separate the data points. Kernels are like special tools that help SVM draw the best boundary between two or more classes. The most commonly used kernels are the Linear Kernel, the Polynomial Kernel, and the Radial Basis Function Kernel, which is also called the RBF Kernel. Each of these kernels has its own strengths and weaknesses and is used for different types of data and problems.\n",
        "\n",
        "Let us begin with the Linear Kernel. This is the simplest type of kernel. It is used when the data can be separated by a straight line or a flat plane. The Linear Kernel does not actually transform the data into any higher dimension. It works directly with the original data. This kernel is very fast and efficient and works well when the number of features is very large and the data is already linearly separable. It is commonly used in text classification tasks like spam detection or sentiment analysis, where the data has thousands of features. However, it does not work well when the data has a complex pattern or when the relationship between input features and output classes is not linear.\n",
        "\n",
        "Next is the Polynomial Kernel. This kernel transforms the data into a higher dimensional space using polynomial functions. It allows the model to learn curved or more complex boundaries. The degree of the polynomial decides how flexible the boundary will be. A degree of two will create a simple curve, while a degree of five or higher will create more complex shapes. The Polynomial Kernel is useful when the data is not linearly separable but still follows some polynomial pattern. It can be applied to problems like image processing or handwriting recognition. However, this kernel can be slower to compute, especially when the degree is high, and it can also lead to overfitting if the model becomes too complex.\n",
        "\n",
        "The most powerful and flexible kernel is the Radial Basis Function Kernel, also known as the RBF Kernel. It is also called the Gaussian Kernel because it is based on the Gaussian function. This kernel maps the data into an infinite dimensional space. It can handle highly non linear relationships and is good at drawing complex boundaries between data points. The RBF Kernel looks at how close or far the data points are from each other and uses that distance to decide the boundary\n",
        "\n",
        "\n",
        "\n",
        "\n",
        "\n",
        "\n",
        "\n",
        "\n",
        "Question 10. What is the Effect of the C Parameter in SVM\n",
        "\n",
        "Answer:\n",
        "\n",
        "In Support Vector Machines, the C parameter plays a very important role. It is a regularization parameter that controls the balance between having a wide margin and correctly classifying all the training points. To understand the C parameter, we must first understand what a margin is in the context of SVM. A margin is the distance between the separating boundary and the closest data points from both classes. The goal of SVM is to find the hyperplane or decision boundary that has the maximum margin while still separating the data points correctly.\n",
        "\n",
        "Now, in real world data, it is not always possible to perfectly separate the classes without making a few mistakes. This is especially true when the data is noisy or overlapping. So instead of using a hard margin where no error is allowed, SVM allows a soft margin where some misclassification is permitted. The C parameter helps to control this softness. It is a tradeoff parameter between two goals. One goal is to make the margin as wide as possible. The other goal is to reduce classification errors on the training data. The value of C determines which of these goals the model gives more importance to.\n",
        "\n",
        "When the value of C is very high, the SVM model will focus more on correctly classifying all the training data. It will try to avoid any misclassification, even if that means choosing a very narrow margin or creating a more complex decision boundary. In such cases, the model becomes more sensitive to the training data and tries to fit it very tightly. This may seem like a good thing, but it can actually lead to a problem called overfitting. Overfitting happens when the model becomes too complex and starts learning noise or specific details in the training data that do not generalize well to new or unseen data. So with a high value of C, you get lower training error but possibly higher testing error.\n",
        "\n",
        "On the other hand, when the value of C is very low, the SVM model will allow more misclassifications in the training data, but it will choose a decision boundary that has a wider margin. This makes the model simpler and more general. It may not perfectly separate all the points in the training data, but it will likely perform better on new data. This approach is less sensitive to noise and can avoid overfitting. However, if C is too low, it may lead to underfitting, which means the model is too simple and does not capture the important patterns in the data.\n",
        "\n",
        "Therefore, choosing the right value of C is crucial for building a good SVM model. In practice, the value of C is usually selected using a method called cross validation. This method involves trying different values of C and testing the model on separate validation sets to see which value gives the best performance. This way, we can find a good balance between margin width and classification accuracy.\n",
        "\n",
        "To better understand the effect of C, imagine you are a teacher who is checking answers in a test. If you are very strict and do not allow even one small mistake, it is like setting a high value of C. You will only pass students who write perfect answers, but you might fail some good students who made a tiny error. On\n",
        "\n",
        "\n",
        "\n",
        "\n",
        "\n",
        "\n",
        "Question Eleven. What is the Role of the Gamma Parameter in RBF Kernel SVM\n",
        "\n",
        "Answer:\n",
        "\n",
        "In Support Vector Machines, the gamma parameter is an important tuning parameter, especially when using the Radial Basis Function kernel, also known as the RBF kernel or the Gaussian kernel. The gamma parameter affects how much influence a single training example has on the final model. In simple terms, gamma decides how far the reach of a single data point is when shaping the decision boundary.\n",
        "\n",
        "To understand this better, let us first recall how the RBF kernel works. The RBF kernel is used to handle non linear data. It transforms the original input space into a higher dimensional space where the data becomes linearly separable. The transformation is based on the distance between data points. When the RBF kernel is applied, it considers how close or far each point is from the other points, and gamma controls how much this distance matters.\n",
        "\n",
        "If the gamma value is very high, this means that each data point will only affect the region very close to itself. The decision boundary will become very tight around each point. The model will try to classify all the training examples correctly by creating very complex and curved boundaries that tightly wrap around the data points. This may lead to overfitting. Overfitting means the model fits the training data too well, even capturing the noise or random fluctuations in the data, which can cause poor performance on new or unseen data.\n",
        "\n",
        "If the gamma value is very low, this means that each data point will have a broad influence across a large region. The model will consider even faraway points when deciding the boundary. As a result, the decision boundary will become smoother and less complex. This reduces the chance of overfitting but increases the risk of underfitting. Underfitting means the model is too simple and may not capture the true patterns in the data.\n",
        "\n",
        "Let us look at a simple example to explain gamma. Imagine you are lighting candles in a dark room. Each candle represents a data point. If the gamma value is high, it is like using candles with a very small flame. Each candle lights up only a tiny spot, so the room is mostly dark except for small bright spots. In this case, the model will focus on small regions around each point. If the gamma value is low, it is like using candles with a big flame that spreads light across the room. Now the light from each candle overlaps with others, creating a smooth glow throughout the room. This is how low gamma makes the model behave in a more general way.\n",
        "\n",
        "Gamma is especially useful when the RBF kernel is used, because it controls how flexible or rigid the decision boundary will be. In practice, setting the correct value of gamma is very important. If you choose a gamma that is too high, the model may memorize the training data but fail on test data. If you choose a gamma that is too low, the model may miss important patterns in the data.\n",
        "\n",
        "To find the best gamma value, machine learning practitioners often use a technique called grid search along with cross validation.\n",
        "\n",
        "\n",
        "\n",
        "\n",
        "\n",
        "\n",
        "Question Twelve. What is the Naive Bayes Classifier and Why is it Called Naive\n",
        "\n",
        "Answer:\n",
        "\n",
        "The Naive Bayes classifier is a very popular and simple algorithm used in machine learning for classification tasks. It is based on a mathematical concept known as Bayes theorem, which deals with finding the probability of a hypothesis given some evidence. The Naive Bayes classifier applies Bayes theorem in a special way by making a strong assumption. That assumption is that all the features or input variables are completely independent of each other when predicting the target class. This assumption is what makes the algorithm naive.\n",
        "\n",
        "To understand how Naive Bayes works, imagine you are trying to decide whether to play football based on the weather. You might look at features like whether it is sunny, the temperature, humidity, and whether it is windy. The Naive Bayes classifier will treat all these factors as if they are not related to each other. It will calculate the probability of playing football for each individual feature and then combine these probabilities to make a final prediction. Even though in real life, these features may be related, the algorithm treats them as if they are not. That is why it is called naive.\n",
        "\n",
        "Now let us talk about Bayes theorem, the foundation of Naive Bayes. Bayes theorem helps us calculate the probability of a certain event occurring based on prior knowledge of conditions related to the event. In classification, the event is the class we are trying to predict, and the conditions are the input features. Naive Bayes calculates the probability\n",
        "\n",
        "\n",
        "\n",
        "\n",
        "\n",
        "\n",
        "Question Thirteen. What is Bayes Theorem\n",
        "\n",
        "Answer:\n",
        "\n",
        "Bayes theorem is a fundamental concept in probability and statistics that is used to calculate the probability of an event occurring based on prior knowledge of conditions that might be related to the event. It is named after the British mathematician Thomas Bayes who developed the idea in the eighteenth century. In the field of machine learning, especially in classification tasks, Bayes theorem forms the foundation of the Naive Bayes algorithm.\n",
        "\n",
        "The basic idea of Bayes theorem is to update our beliefs or probabilities when we get new evidence. Suppose you want to know how likely it is that a patient has a disease given that they show certain symptoms. Bayes theorem helps us calculate this by combining two things. First, the prior probability which is how common the disease is in general and second, the likelihood which is how likely the symptoms are if someone has the disease. Using these, Bayes theorem gives us the updated probability of the disease given the symptoms.\n",
        "\n",
        "Let us break it down using simple terms. Suppose you have two events. The first event is called A and the second event is called B. Bayes theorem tells you how to calculate the probability of event A happening given that event B has already happened. This is known as the conditional probability. To calculate this, we need three pieces of information. First, the probability of A by itself which is called the prior. Second, the probability of B given A which is called the likelihood. Third, the overall probability of B which is called the evidence.\n",
        "\n",
        "In mathematical language, Bayes theorem combines these parts to calculate the probability of A given B. But since we are not using any symbols, you can remember it like this. Posterior is equal to likelihood multiplied by prior divided by evidence. In other words, we update our original belief based on how likely the new evidence is under different possible conditions.\n",
        "\n",
        "Let us consider a simple example to make it clearer. Imagine that in a certain town, only one out of every one thousand people has a rare disease. A test has been developed to detect this disease and it is ninety nine percent accurate. This means that if someone has the disease, the test will say positive ninety nine percent of the time. However, if someone does not have the disease, the test might still say positive in one percent of the cases.\n",
        "\n",
        "Now suppose a person gets tested and the result comes back positive. Should they be very worried? Should they assume they have the disease? Many people might think yes because the test is ninety nine percent accurate. But Bayes theorem gives a different answer. It tells us to consider not just the accuracy of the test but also how rare the disease is in the first place. If only one in a thousand people has the disease, then even if the test says positive, the chances are still low that the person actually has the disease. Bayes theorem helps us calculate the exact updated probability, which will turn out to be much lower than expected.\n",
        "\n",
        "In machine learning and artificial intelligence, Bayes theorem is widely used to build models that can make decisions or predictions under uncertainty. One of the most common uses is in the Naive Bayes classifier. In this model, Bayes theorem is used to calculate the probability of different classes given a set of features. For example, in spam detection, Bayes theorem is used to find the probability that an email is spam given the words it contains.\n",
        "\n",
        "Even though Bayes theorem is very powerful, its usefulness depends on having accurate prior probabilities and likelihoods. In many cases, these values have to be estimated from the data. If the estimates are wrong, the results from Bayes theorem may also be incorrect. That is why it is important to use good data and enough data when applying Bayes theorem in practice.\n",
        "\n",
        "In\n",
        "\n",
        "\n",
        "\n",
        "Question Fourteen. Explain the Differences Between Gaussian Naive Bayes, Multinomial Naive Bayes, and Bernoulli Naive Bayes\n",
        "\n",
        "Answer:\n",
        "\n",
        "Naive Bayes is a group of simple and powerful classification algorithms based on Bayes theorem with an assumption of independence between features. There are different types of Naive Bayes models depending on the nature of the input data. The three main types are Gaussian Naive Bayes, Multinomial Naive Bayes, and Bernoulli Naive Bayes. Each of these models is designed for a specific type of data and is used in different situations. Let us look at the differences among them in detail.\n",
        "\n",
        "The first type is called Gaussian Naive Bayes. This model is used when the input features are continuous and follow a normal distribution, also called a bell shaped curve. For example, in cases where the features are height, weight, temperature, or age, and they take continuous values, Gaussian Naive Bayes is a good choice. In this model, it is assumed that the data for each class is distributed normally. The model calculates the mean and the standard deviation for each feature in each class, and then uses these to find the probability of a given feature value. It is called Gaussian because it uses the Gaussian distribution, which is the same as the normal distribution.\n",
        "\n",
        "The second type is called Multinomial Naive Bayes. This model is used when the input features represent counts or frequencies. It is most commonly used in text classification tasks where features are the number of times a word appears in a document. For example, if we are classifying emails as spam or not spam, we might count how many times each word appears. Multinomial Naive Bayes is good for this kind of data. It assumes that the features are integer values and that the data follows a multinomial distribution. This model works well when the importance of each feature depends on how often it appears in the sample.\n",
        "\n",
        "The third type is called Bernoulli Naive Bayes. This model is used when the input features are binary, meaning they take only two possible values such as zero or one, yes or no, or true or false. It is suitable for tasks where we only care about whether a feature is present or not, and not how many times it appears. For example, in text classification, Bernoulli Naive Bayes would be used if we only want to know whether a certain word appears in an email, not how many times it appears. Each feature is treated as a binary indicator, and the model learns the probability that a feature is present or absent in a given class.\n",
        "\n",
        "Now let us compare these three types of Naive Bayes models in terms of when they are used, how they work, and what kind of data they need.\n",
        "\n",
        "Gaussian Naive Bayes is used when features are real valued numbers and are assumed to be normally distributed. It is a good choice for datasets where feature values are continuous and follow a bell shaped curve. It calculates the probability of each feature using the normal distribution formula.\n",
        "\n",
        "Multinomial Naive Bayes is used when features are counts or frequencies. It is ideal for text classification problems where input data represents how many times words appear in a document. It assumes that features follow a multinomial distribution and uses word frequencies to calculate probabilities.\n",
        "\n",
        "Bernoulli Naive Bayes is used when features are binary. It is also used in text classification but focuses on whether a word is present or not in a document. It assumes that features follow a Bernoulli distribution\n",
        "\n",
        "\n",
        "\n",
        "Question Sixteen. What are the Key Assumptions Made by Naive Bayes\n",
        "\n",
        "Answer:\n",
        "\n",
        "Naive Bayes is a group of classification algorithms that are based on Bayes theorem. These algorithms are called naive because they make certain strong assumptions about the data. Although these assumptions may not always be completely true in real world data, the algorithm still performs well in many practical situations. The key assumptions made by Naive Bayes are very important to understand because they define how the model works and when it is likely to give accurate results.\n",
        "\n",
        "The first and most important assumption made by Naive Bayes is that all the features are conditionally independent of each other given the class label. This means that the model assumes that the presence or value of one feature does not affect the presence or value of another feature, as long as we know the class. For example, if we are classifying emails into spam and not spam based on the words they contain, Naive Bayes assumes that the presence of the word free does not affect the presence of the word money, once we know whether the email is spam or not. In reality, many features in real data are not completely independent. But Naive Bayes still performs well because this assumption simplifies the computation and often gives good results even when the assumption is not exactly true.\n",
        "\n",
        "The second key assumption is that the effect of each feature on the outcome is equal and additive. This means that the contribution of each feature to the final classification decision is considered separately and added up. Each feature gives some evidence in favor of each class and the model combines all these pieces of evidence to make the final prediction. This assumption works well when each feature contains independent information about the class. But in some cases where there are complex interactions among features, this assumption might not hold and can affect the accuracy.\n",
        "\n",
        "The third assumption depends on the type of Naive Bayes model used. For example, in Gaussian Naive Bayes, it is assumed that the continuous features follow a normal distribution within each class. This means that the values of features like height, weight, or temperature are assumed to form a bell shaped curve. This assumption helps the model estimate the probability of each feature value using the properties of the normal distribution. If the data does not follow this pattern, the predictions may not be as accurate.\n",
        "\n",
        "In Multinomial Naive Bayes, which is used for count data like word frequencies in documents, the assumption is that the features follow a multinomial distribution. This means that the number of times each feature appears is modeled using a probability distribution that describes repeated events. This assumption works well for text classification tasks where word counts are important.\n",
        "\n",
        "In Bernoulli Naive Bayes, which is used for binary data, the model assumes that each feature is either present or absent and follows a Bernoulli distribution. This assumption works well when the dataset has features that are either zero or one such as whether a word is present in a document or not.\n",
        "\n",
        "Another important assumption is that the training data is representative of the actual data the model will see in the future. This means that the model assumes that the examples it learns from during training are similar in nature to the examples it will classify later. If the training data is very different from the real world data, then the model may not perform well.\n",
        "\n",
        "Naive Bayes also assumes that all relevant features are included in the data. If some important features are missing or if some irrelevant features are present, the model might make wrong predictions. It also assumes that there is no\n",
        "\n",
        "\n",
        "\n",
        "Question Seventeen. What are the Advantages and Disadvantages of Naive Bayes\n",
        "\n",
        "Answer:\n",
        "\n",
        "Naive Bayes is a widely used machine learning algorithm for classification problems. It is based on Bayes theorem and is called naive because it assumes that all features are independent of each other. Although this assumption is often not true in real world data, the algorithm still performs very well in many situations. Like every algorithm, Naive Bayes has both advantages and disadvantages. Understanding these will help us decide when to use it and when it might not be the best choice.\n",
        "\n",
        "Let us first look at the advantages of Naive Bayes.\n",
        "\n",
        "The first advantage is that Naive Bayes is very simple and easy to understand. It is based on basic probability and does not require complicated mathematical calculations. This makes it a good starting point for beginners in machine learning.\n",
        "\n",
        "The second advantage is that it is very fast and efficient. Naive Bayes can handle large amounts of data and many features quickly. It is one of the fastest classification algorithms, both in training and prediction time. This is especially useful in real time applications or when working with very large datasets.\n",
        "\n",
        "The third advantage is that Naive Bayes performs well even with small amounts of training data. Some machine learning algorithms need a large amount of data to give accurate results. But Naive Bayes can give good performance even with limited data, which is helpful in situations where data is scarce.\n",
        "\n",
        "The fourth advantage is that Naive Bayes is effective in high dimensional data. In text classification problems, for example, where each word becomes a feature, the number of features can be very large. Naive Bayes works well in these cases and is commonly used for spam detection, sentiment analysis, and news classification.\n",
        "\n",
        "The fifth advantage is that it is robust to irrelevant features. Even if some features do not contribute much to the prediction, Naive Bayes can still perform well because it considers each feature independently.\n",
        "\n",
        "Another benefit is that it is not prone to overfitting. Overfitting happens when a model performs well on training data but poorly on new data. Naive Bayes is simple and makes strong assumptions, which helps prevent overfitting in many cases.\n",
        "\n",
        "Now let us look at the disadvantages of Naive Bayes.\n",
        "\n",
        "The main disadvantage is the strong assumption of feature independence. Naive Bayes assumes that all features are independent of each other given the class. In real life, features are often related. For example, in a document, the words offer and discount might appear\n",
        "\n",
        "\n",
        "\n",
        "Question Eighteen. Why is Naive Bayes a Good Choice for Text Classification\n",
        "\n",
        "Answer:\n",
        "\n",
        "Naive Bayes is considered one of the best and most commonly used algorithms for text classification tasks. This includes areas like spam filtering, sentiment analysis, news article categorization, document classification, and even language detection. The main reason for this is that Naive Bayes is simple, fast, and works very well with large text data, especially when the dataset has many features.\n",
        "\n",
        "Text classification involves assigning predefined categories to text documents based on the content of the text. For example, an email can be labeled as spam or not spam, a customer review can be labeled as positive or negative, or a news article can be labeled as business, politics, sports, and so on. To understand why Naive Bayes is good for these tasks, we need to look at its strengths and how it fits the nature of text data.\n",
        "\n",
        "The first reason is that Naive Bayes handles high dimensional data very well. In text classification, each word or token in the vocabulary becomes a separate feature. This means that if you have ten thousand unique words in your training data, then each document is represented as a vector of ten thousand features. Many machine learning algorithms struggle to deal with such a large number of features, but Naive Bayes performs very well even in such situations.\n",
        "\n",
        "The second reason is the conditional independence assumption. Although this assumption is not always true in real language where words often depend on each other, it simplifies the computation a lot. Naive Bayes assumes that given the class label, the presence of one word in a document is independent of the presence of any other word. This allows the model to calculate probabilities in a very efficient and scalable way.\n",
        "\n",
        "The third reason is speed. Naive Bayes is very fast to train and test, even with massive datasets. In real world applications like email filtering and real time content moderation, speed is very important. Naive Bayes is suitable for such use cases because it can be trained and used to make predictions very quickly.\n",
        "\n",
        "The fourth reason is that Naive Bayes can work well even with small amounts of training data. In text classification, it is not always possible to have a very large labeled dataset. Naive Bayes is effective even when the training data is limited. It can generalize well from a few examples and still give accurate results.\n",
        "\n",
        "\n",
        "\n",
        "\n",
        "Question Nineteen. Compare SVM and Naive Bayes for Classification Tasks\n",
        "\n",
        "Answer:\n",
        "\n",
        "Support Vector Machine and Naive Bayes are both popular machine learning algorithms used for classification tasks. They have different strengths and weaknesses, and they work in different ways. Choosing between them depends on the type of problem, the nature of the data, and the goal of the task. In this answer, we will compare SVM and Naive Bayes based on how they work, their performance, speed, complexity, interpretability, and their usage in real life scenarios.\n",
        "\n",
        "Let us first understand how each algorithm works in general terms.\n",
        "\n",
        "Naive Bayes is a probabilistic algorithm. It uses Bayes Theorem to predict the class of a data point. It calculates the probability of each class given the input features and chooses the class with the highest probability. It makes a strong assumption that all features are independent of each other given the class label. This assumption is called the conditional independence assumption. Even though this assumption is not always true, Naive Bayes still works well in many situations.\n",
        "\n",
        "Support Vector Machine is a geometric algorithm. It tries to find the best decision boundary or hyperplane that separates the classes in the feature space. It does this by maximizing the margin between the two classes. The points that lie closest to the boundary are called support vectors. SVM can work with linear as well as non linear data using a technique called the kernel trick.\n",
        "\n",
        "Now let us compare them based on different factors.\n",
        "\n",
        "The first factor is accuracy and performance. SVM usually performs better than Naive Bayes when the number of features is small and the classes are well separated. It is very powerful in high dimensional spaces and is known for giving high accuracy in many classification problems. Naive Bayes, on the other hand, performs well in many real world applications especially when the number of features is large and the dataset is sparse such as in text classification tasks. However, its accuracy may drop if the independence assumption is violated too much.\n",
        "\n",
        "The second\n",
        "\n",
        "\n",
        "\n",
        "\n",
        "\n",
        "\n",
        "Question Twenty. How Does Laplace Smoothing Help in Naive Bayes\n",
        "\n",
        "Answer:\n",
        "\n",
        "Laplace Smoothing is a very important technique used in the Naive Bayes algorithm to handle a specific type of problem called the zero probability problem. This issue can seriously affect the performance of the model if not handled properly. In this answer, we will understand what this problem is, how Laplace Smoothing solves it, and why it is especially useful in text classification tasks.\n",
        "\n",
        "Let us first understand the problem. Naive Bayes is a probabilistic algorithm. It calculates the probability of a class given the input features using Bayes Theorem. For this calculation, it multiplies the prior probability of the class with the likelihood of each feature given the class. For example, in a text classification task, if we want to classify a message as spam or not spam, Naive Bayes calculates the probability of each word appearing in spam and non spam messages.\n",
        "\n",
        "Now imagine a situation where a word appears in a new message, but it never appeared in any of the training messages labeled as spam. In this case, the probability of that word given the spam class becomes zero. Since Naive Bayes multiplies all the feature probabilities together, even a single zero probability will make the entire product zero. This means the model will completely ignore the spam class for that input, just because of one unseen word. This is a big problem, especially in text data, where many rare or new words are common.\n",
        "\n",
        "Laplace Smoothing is used to fix this issue. It is also known as additive smoothing. The basic idea is to add a small constant to every word count when calculating probabilities. This ensures that no word ever has zero probability, even if it was never seen in the training data for a particular class.\n",
        "\n",
        "Let us understand this more clearly with an example. Suppose we are building a spam filter and we have a vocabulary of one thousand words. In the training data, a word like jackpot might appear ten times in spam messages and zero times in non spam messages. Without smoothing, the probability of jackpot given non spam would be zero. But with Laplace Smoothing, we add one to every word count. So now the count becomes one instead of zero. This avoids the zero probability problem and gives the model a better chance to make fair decisions.\n",
        "\n",
        "Another way to understand Laplace Smoothing is that it assumes that every possible word has appeared at least once in each class. It spreads out a small amount of probability mass across all possible words. This helps\n",
        "\n",
        "\n",
        "\n",
        "''''\n",
        "\n",
        "\n",
        "\n",
        "\n",
        "\n",
        "\n",
        "\n",
        "\n"
      ]
    },
    {
      "cell_type": "code",
      "source": [],
      "metadata": {
        "id": "7bI-V63c2uFG"
      },
      "execution_count": null,
      "outputs": []
    },
    {
      "cell_type": "code",
      "source": [
        "# 21\n",
        "from sklearn import datasets\n",
        "from sklearn.model_selection import train_test_split\n",
        "from sklearn.svm import SVC\n",
        "from sklearn.metrics import accuracy_score\n",
        "\n",
        "# Load the Iris dataset\n",
        "iris = datasets.load_iris()\n",
        "X = iris.data\n",
        "y = iris.target\n",
        "\n",
        "# Split the dataset into training and testing parts\n",
        "X_train, X_test, y_train, y_test = train_test_split(X, y, test_size=0.3, random_state=42)\n",
        "\n",
        "# Create and train the SVM classifier with a linear kernel\n",
        "svm_classifier = SVC(kernel='linear')\n",
        "svm_classifier.fit(X_train, y_train)\n",
        "\n",
        "# Predict on test data\n",
        "y_pred = svm_classifier.predict(X_test)\n",
        "\n",
        "# Calculate and print accuracy\n",
        "accuracy = accuracy_score(y_test, y_pred)\n",
        "print(\"Accuracy of the SVM Classifier on the Iris dataset:\", accuracy)\n"
      ],
      "metadata": {
        "colab": {
          "base_uri": "https://localhost:8080/"
        },
        "id": "IQ-36sR52uBu",
        "outputId": "8e4c2400-314c-4859-dc4d-7f7278e793e4"
      },
      "execution_count": null,
      "outputs": [
        {
          "output_type": "stream",
          "name": "stdout",
          "text": [
            "Accuracy of the SVM Classifier on the Iris dataset: 1.0\n"
          ]
        }
      ]
    },
    {
      "cell_type": "code",
      "source": [
        "\n",
        "# 22\n",
        "\n",
        "from sklearn import datasets\n",
        "from sklearn.model_selection import train_test_split\n",
        "from sklearn.svm import SVC\n",
        "from sklearn.metrics import accuracy_score\n",
        "\n",
        "# Load the Wine dataset\n",
        "wine = datasets.load_wine()\n",
        "X = wine.data\n",
        "y = wine.target\n",
        "\n",
        "# Split into training and testing sets\n",
        "X_train, X_test, y_train, y_test = train_test_split(X, y, test_size=0.3, random_state=42)\n",
        "\n",
        "# Train SVM with Linear Kernel\n",
        "svm_linear = SVC(kernel='linear')\n",
        "svm_linear.fit(X_train, y_train)\n",
        "y_pred_linear = svm_linear.predict(X_test)\n",
        "accuracy_linear = accuracy_score(y_test, y_pred_linear)\n",
        "\n",
        "# Train SVM with RBF Kernel\n",
        "svm_rbf = SVC(kernel='rbf')\n",
        "svm_rbf.fit(X_train, y_train)\n",
        "y_pred_rbf = svm_rbf.predict(X_test)\n",
        "accuracy_rbf = accuracy_score(y_test, y_pred_rbf)\n",
        "\n",
        "# Print both accuracies\n",
        "print(\"Accuracy with Linear Kernel:\", accuracy_linear)\n",
        "print(\"Accuracy with RBF Kernel:\", accuracy_rbf)\n"
      ],
      "metadata": {
        "colab": {
          "base_uri": "https://localhost:8080/"
        },
        "id": "0KeQ0v1P2t_J",
        "outputId": "a7ecb220-4b67-41c1-cc8c-8008e07e1f43"
      },
      "execution_count": null,
      "outputs": [
        {
          "output_type": "stream",
          "name": "stdout",
          "text": [
            "Accuracy with Linear Kernel: 0.9814814814814815\n",
            "Accuracy with RBF Kernel: 0.7592592592592593\n"
          ]
        }
      ]
    },
    {
      "cell_type": "code",
      "source": [
        "# 23\n",
        "\n",
        "from sklearn.datasets import fetch_california_housing\n",
        "from sklearn.model_selection import train_test_split\n",
        "from sklearn.svm import SVR\n",
        "from sklearn.metrics import mean_squared_error\n",
        "\n",
        "# Load the housing dataset\n",
        "housing = fetch_california_housing()\n",
        "X = housing.data\n",
        "y = housing.target\n",
        "\n",
        "# Split dataset into training and testing parts\n",
        "X_train, X_test, y_train, y_test = train_test_split(X, y, test_size=0.3, random_state=42)\n",
        "\n",
        "# Train SVM Regressor with RBF kernel\n",
        "svr = SVR(kernel='rbf')\n",
        "svr.fit(X_train, y_train)\n",
        "\n",
        "# Predict on test data\n",
        "y_pred = svr.predict(X_test)\n",
        "\n",
        "# Calculate Mean Squared Error\n",
        "mse = mean_squared_error(y_test, y_pred)\n",
        "print(\"Mean Squared Error of SVR on housing dataset:\", mse)\n"
      ],
      "metadata": {
        "colab": {
          "base_uri": "https://localhost:8080/"
        },
        "id": "-lUpIkyv2t8z",
        "outputId": "1feb8072-e826-48f7-b8d5-88200627140f"
      },
      "execution_count": null,
      "outputs": [
        {
          "output_type": "stream",
          "name": "stdout",
          "text": [
            "Mean Squared Error of SVR on housing dataset: 1.3489971413208723\n"
          ]
        }
      ]
    },
    {
      "cell_type": "code",
      "source": [],
      "metadata": {
        "id": "pAHfDDzJ2t6c"
      },
      "execution_count": null,
      "outputs": []
    },
    {
      "cell_type": "code",
      "source": [
        "# 24\n",
        "\n",
        "\n",
        "import matplotlib.pyplot as plt\n",
        "from sklearn.datasets import make_classification\n",
        "from sklearn.svm import SVC\n",
        "from sklearn.preprocessing import StandardScaler\n",
        "from sklearn.model_selection import train_test_split\n",
        "import numpy as np\n",
        "\n",
        "# Generate synthetic data for visualization\n",
        "X, y = make_classification(n_samples=100, n_features=2, n_informative=2,\n",
        "                           n_redundant=0, n_clusters_per_class=1, random_state=42)\n",
        "\n",
        "# Scale the data\n",
        "scaler = StandardScaler()\n",
        "X_scaled = scaler.fit_transform(X)\n",
        "\n",
        "# Train-test split\n",
        "X_train, X_test, y_train, y_test = train_test_split(X_scaled, y, test_size=0.3, random_state=42)\n",
        "\n",
        "# Train SVM classifier with Polynomial kernel\n",
        "svm_poly = SVC(kernel='poly', degree=3)\n",
        "svm_poly.fit(X_train, y_train)\n",
        "\n",
        "# Plot decision boundary\n",
        "def plot_decision_boundary(model, X, y):\n",
        "    x_min, x_max = X[:, 0].min() - 1, X[:, 0].max() + 1\n",
        "    y_min, y_max = X[:, 1].min() - 1, X[:, 1].max() + 1\n",
        "    xx, yy = np.meshgrid(np.linspace(x_min, x_max, 300),\n",
        "                         np.linspace(y_min, y_max, 300))\n",
        "    Z = model.predict(np.c_[xx.ravel(), yy.ravel()])\n",
        "    Z = Z.reshape(xx.shape)\n",
        "\n",
        "    plt.contourf(xx, yy, Z, alpha=0.3)\n",
        "    plt.scatter(X[:, 0], X[:, 1], c=y, edgecolors='k')\n",
        "    plt.title\n",
        "\n",
        "\n",
        "\n",
        "\n",
        "plot_decision_boundary(svm_poly, X_scaled, y)\n"
      ],
      "metadata": {
        "id": "5ezJnM2p2t4F"
      },
      "execution_count": null,
      "outputs": []
    },
    {
      "cell_type": "code",
      "source": [
        "# 25\n",
        "from sklearn.datasets import load_breast_cancer\n",
        "from sklearn.model_selection import train_test_split\n",
        "from sklearn.naive_bayes import GaussianNB\n",
        "from sklearn.metrics import accuracy_score\n",
        "\n",
        "# Load the Breast Cancer dataset\n",
        "data = load_breast_cancer()\n",
        "X = data.data\n",
        "y = data.target\n",
        "\n",
        "# Split into training and testing sets\n",
        "X_train, X_test, y_train, y_test = train_test_split(X, y, test_size=0.3, random_state=42)\n",
        "\n",
        "# Train Gaussian Naive Bayes classifier\n",
        "gnb = GaussianNB()\n",
        "gnb.fit(X_train, y_train)\n",
        "\n",
        "# Predict on test data\n",
        "y_pred = gnb.predict(X_test)\n",
        "\n",
        "# Calculate and print accuracy\n",
        "accuracy = accuracy_score(y_test, y_pred)\n",
        "print(\"Accuracy of Gaussian Naive Bayes on Breast Cancer dataset:\", accuracy)\n"
      ],
      "metadata": {
        "colab": {
          "base_uri": "https://localhost:8080/"
        },
        "id": "kC1jGUg02t1m",
        "outputId": "41551575-2e5b-4336-b4e6-c933f0b70512"
      },
      "execution_count": null,
      "outputs": [
        {
          "output_type": "stream",
          "name": "stdout",
          "text": [
            "Accuracy of Gaussian Naive Bayes on Breast Cancer dataset: 0.9415204678362573\n"
          ]
        }
      ]
    },
    {
      "cell_type": "code",
      "source": [],
      "metadata": {
        "id": "8ccFdhrd2tzL"
      },
      "execution_count": null,
      "outputs": []
    },
    {
      "cell_type": "code",
      "source": [
        "# 26\n",
        "\n",
        "from sklearn.datasets import fetch_20newsgroups\n",
        "from sklearn.feature_extraction.text import CountVectorizer\n",
        "from sklearn.model_selection import train_test_split\n",
        "from sklearn.naive_bayes import MultinomialNB\n",
        "from sklearn.metrics import accuracy_score\n",
        "\n",
        "# Load the 20 Newsgroups dataset\n",
        "newsgroups = fetch_20newsgroups(subset='all', categories=['sci.space', 'rec.sport.hockey'], remove=('headers', 'footers', 'quotes'))\n",
        "\n",
        "# Convert text data into count vectors\n",
        "vectorizer = CountVectorizer()\n",
        "X = vectorizer.fit_transform(newsgroups.data)\n",
        "y = newsgroups.target\n",
        "\n",
        "# Split into training and testing sets\n",
        "X_train, X_test, y_train, y_test = train_test_split(X, y, test_size=0.3, random_state=42)\n",
        "\n",
        "# Train the Multinomial Naive Bayes classifier\n",
        "mnb = MultinomialNB()\n",
        "mnb.fit(X_train, y_train)\n",
        "\n",
        "# Predict on test data\n",
        "y_pred = mnb.predict(X_test)\n",
        "\n",
        "# Evaluate accuracy\n",
        "accuracy = accuracy_score(y_test, y_pred)\n",
        "print(\"Accuracy of Multinomial Naive Bayes on 20 Newsgroups data:\", accuracy)\n"
      ],
      "metadata": {
        "colab": {
          "base_uri": "https://localhost:8080/"
        },
        "id": "3yPrzwpC2twy",
        "outputId": "1e4a7022-6beb-4a1c-d3ab-662a0bc34a54"
      },
      "execution_count": null,
      "outputs": [
        {
          "output_type": "stream",
          "name": "stdout",
          "text": [
            "Accuracy of Multinomial Naive Bayes on 20 Newsgroups data: 0.9513422818791947\n"
          ]
        }
      ]
    },
    {
      "cell_type": "code",
      "source": [],
      "metadata": {
        "id": "8-aR9omv2tuQ"
      },
      "execution_count": null,
      "outputs": []
    },
    {
      "cell_type": "code",
      "source": [
        "# 27\n",
        "\n",
        "\n",
        "import numpy as np\n",
        "import matplotlib.pyplot as plt\n",
        "from sklearn.datasets import make_classification\n",
        "from sklearn.svm import SVC\n",
        "from sklearn.model_selection import train_test_split\n",
        "from sklearn.preprocessing import StandardScaler\n",
        "\n",
        "# Generate synthetic data for visualization\n",
        "X, y = make_classification(n_samples=100, n_features=2, n_informative=2,\n",
        "                           n_redundant=0, n_clusters_per_class=1, random_state=42)\n",
        "\n",
        "# Scale the data\n",
        "scaler = StandardScaler()\n",
        "X_scaled = scaler.fit_transform(X)\n",
        "\n",
        "# Split dataset into training and testing\n",
        "X_train, X_test, y_train, y_test = train_test_split(X_scaled, y, test_size=0.3, random_state=42)\n",
        "\n",
        "# Function to plot decision boundary\n",
        "def plot_decision_boundary(model, X, y, ax):\n",
        "    x_min, x_max = X[:, 0].min() - 1, X[:, 0].max() + 1\n",
        "    y_min, y_max = X[:, 1].min() - 1, X[:, 1].max() + 1\n",
        "    xx, yy = np.meshgrid(np.linspace(x_min, x_max, 300),\n",
        "                         np.linspace(y_min, y_max, 300))\n",
        "    Z = model.predict(np.c_[xx.ravel(), yy.ravel()])\n",
        "    Z = Z.reshape(xx.shape)\n",
        "    ax.contourf(xx, yy, Z, alpha=0.3)\n",
        "    ax.scatter(X[:, 0], X[:, 1], c=y, edgecolors='k')\n",
        "    ax.set_title(f\"SVM with C={model.C}\")\n",
        "\n",
        "# Train and visualize SVM with different C values\n",
        "fig, axes = plt.subplots(1, 3, figsize=(15, 5))\n",
        "\n",
        "for C_val, ax in zip([0.1, 1, 10], axes):\n",
        "    svm = SVC(kernel='linear', C=C_val)\n",
        "    svm.fit(X_train, y_train)\n",
        "    plot_decision_boundary(svm, X_scaled, y, ax)\n",
        "\n",
        "plt.show()\n"
      ],
      "metadata": {
        "colab": {
          "base_uri": "https://localhost:8080/",
          "height": 336
        },
        "id": "XWvrEbc_2trm",
        "outputId": "8476096b-dcb5-460d-84e3-31790c16cefa"
      },
      "execution_count": null,
      "outputs": [
        {
          "output_type": "display_data",
          "data": {
            "text/plain": [
              "<Figure size 1500x500 with 3 Axes>"
            ],
            "image/png": "[encoded data removed]"
          },
          "metadata": {}
        }
      ]
    },
    {
      "cell_type": "code",
      "source": [],
      "metadata": {
        "id": "0xRhGpOv2tpF"
      },
      "execution_count": null,
      "outputs": []
    },
    {
      "cell_type": "code",
      "source": [
        "# 28from sklearn.datasets import make_classification\n",
        "from sklearn.model_selection import train_test_split\n",
        "from sklearn.naive_bayes import BernoulliNB\n",
        "from sklearn.metrics import accuracy_score\n",
        "\n",
        "# Generate synthetic dataset with binary features\n",
        "X, y = make_classification(n_samples=100, n_features=5, n_informative=5,\n",
        "                           n_redundant=0, n_clusters_per_class=1,\n",
        "                           n_classes=2, random_state=42)\n",
        "\n",
        "# Split dataset into training and testing sets\n",
        "X_train, X_test, y_train, y_test = train_test_split(X, y, test_size=0.3, random_state=42)\n",
        "\n",
        "# Train Bernoulli Naive Bayes classifier\n",
        "bnb = BernoulliNB()\n",
        "bnb.fit(X_train, y_train)\n",
        "\n",
        "# Predict on test data\n",
        "y_pred = bnb.predict(X_test)\n",
        "\n",
        "# Calculate and print accuracy\n",
        "accuracy = accuracy_score(y_test, y_pred)\n",
        "print(\"Accuracy of Bernoulli Naive Bayes on binary classification dataset:\", accuracy)\n"
      ],
      "metadata": {
        "colab": {
          "base_uri": "https://localhost:8080/"
        },
        "id": "6INFxRL92tmX",
        "outputId": "ec0acbbf-a321-4145-a185-cba850ec3520"
      },
      "execution_count": null,
      "outputs": [
        {
          "output_type": "stream",
          "name": "stdout",
          "text": [
            "Accuracy of Bernoulli Naive Bayes on binary classification dataset: 0.8\n"
          ]
        }
      ]
    },
    {
      "cell_type": "code",
      "source": [
        "# 30\n",
        "\n",
        "import numpy as np\n",
        "import matplotlib.pyplot as plt\n",
        "from sklearn.datasets import make_classification\n",
        "from sklearn.svm import SVC\n",
        "from sklearn.model_selection import train_test_split\n",
        "from sklearn.preprocessing import StandardScaler\n",
        "from sklearn.metrics import accuracy_score\n",
        "\n",
        "# Generate synthetic data for classification\n",
        "X, y = make_classification(n_samples=100, n_features=2, n_informative=2,\n",
        "                           n_redundant=0, n_clusters_per_class=1, random_state=42)\n",
        "\n",
        "# Split dataset into training and testing sets\n",
        "X_train, X_test, y_train, y_test = train_test_split(X, y, test_size=0.3, random_state=42)\n",
        "\n",
        "# Train SVM without feature scaling\n",
        "svm_no_scaling = SVC(kernel='linear')\n",
        "svm_no_scaling.fit(X_train, y_train)\n",
        "\n",
        "# Predict and evaluate accuracy without scaling\n",
        "y_pred_no_scaling = svm_no_scaling.predict(X_test)\n",
        "accuracy_no_scaling = accuracy_score(y_test, y_pred_no_scaling)\n",
        "\n",
        "# Apply feature scaling\n",
        "scaler = StandardScaler()\n",
        "X_train_scaled = scaler.fit_transform(X_train)\n",
        "X_test_scaled = scaler.transform(X_test)\n",
        "\n",
        "# Train SVM with feature scaling\n",
        "svm_scaled = SVC(kernel='linear')\n",
        "svm_scaled.fit(X_train_scaled, y_train)\n",
        "\n",
        "# Predict and evaluate accuracy with scaling\n",
        "y_pred_scaled = svm_scaled.predict(X_test_scaled)\n",
        "accuracy_scaled = accuracy_score(y_test, y_pred_scaled)\n",
        "\n",
        "# Print accuracy comparison\n",
        "print(\"Accuracy without feature scaling:\", accuracy_no_scaling)\n",
        "print(\"Accuracy with feature scaling:\", accuracy_scaled)\n",
        "\n",
        "# Visualize the decision boundaries\n",
        "fig, axes = plt.subplots(1, 2, figsize=(12, 6))\n",
        "\n",
        "# Plot without scaling\n",
        "axes[0].scatter(X_train[:, 0], X_train[:, 1], c=y_train, edgecolors='k', cmap=plt.cm.Paired)\n",
        "axes[0].set_title(\"SVM without scaling\")\n",
        "axes[0].set_xlabel(\"Feature 1\")\n",
        "axes[0].set_ylabel(\"Feature 2\")\n",
        "\n",
        "# Plot with scaling\n",
        "axes[1].scatter(X_train_scaled[:, 0], X_train_scaled[:, 1], c=y_train, edgecolors='k', cmap=plt.cm.Paired)\n",
        "axes[1].set_title(\"SVM with scaling\")\n",
        "axes[1].set_xlabel(\"Feature 1\")\n",
        "axes[1].set_ylabel(\"Feature 2\")\n",
        "\n",
        "plt.show()\n"
      ],
      "metadata": {
        "colab": {
          "base_uri": "https://localhost:8080/",
          "height": 522
        },
        "id": "pfMZYX622tjw",
        "outputId": "4afefd42-23fb-4dc3-c06f-0d1b90c645fd"
      },
      "execution_count": null,
      "outputs": [
        {
          "output_type": "stream",
          "name": "stdout",
          "text": [
            "Accuracy without feature scaling: 1.0\n",
            "Accuracy with feature scaling: 1.0\n"
          ]
        },
        {
          "output_type": "display_data",
          "data": {
            "text/plain": [
              "<Figure size 1200x600 with 2 Axes>"
            ],
            "image/png": "[encoded data removed]"
          },
          "metadata": {}
        }
      ]
    },
    {
      "cell_type": "code",
      "source": [
        "# 31\n",
        "\n",
        "from sklearn.datasets import load_iris\n",
        "from sklearn.model_selection import train_test_split\n",
        "from sklearn.naive_bayes import GaussianNB\n",
        "from sklearn.metrics import accuracy_score\n",
        "\n",
        "# Load the Iris dataset\n",
        "data = load_iris()\n",
        "X = data.data\n",
        "y = data.target\n",
        "\n",
        "# Split dataset into training and testing sets\n",
        "X_train, X_test, y_train, y_test = train_test_split(X, y, test_size=0.3, random_state=42)\n",
        "\n",
        "# Train Gaussian Naive Bayes without Laplace Smoothing\n",
        "gnb_no_smoothing = GaussianNB()\n",
        "gnb_no_smoothing.fit(X_train, y_train)\n",
        "\n",
        "# Predict on test data without smoothing\n",
        "y_pred_no_smoothing = gnb_no_smoothing.predict(X_test)\n",
        "\n",
        "# Calculate accuracy without Laplace smoothing\n",
        "accuracy_no_smoothing = accuracy_score(y_test, y_pred_no_smoothing)\n",
        "\n",
        "# Train Gaussian Naive Bayes with Laplace Smoothing (default is Laplace smoothing)\n",
        "gnb_with_smoothing = GaussianNB(var_smoothing=1e-9)\n",
        "gnb_with_smoothing.fit(X_train, y_train)\n",
        "\n",
        "# Predict on test data with smoothing\n",
        "y_pred_with_smoothing = gnb_with_smoothing.predict(X_test)\n",
        "\n",
        "# Calculate accuracy with Laplace smoothing\n",
        "accuracy_with_smoothing = accuracy_score(y_test, y_pred_with_smoothing)\n",
        "\n",
        "# Print comparison of accuracies\n",
        "print(\"Accuracy without Laplace Smoothing:\", accuracy_no_smoothing)\n",
        "print(\"Accuracy with Laplace Smoothing:\", accuracy_with_smoothing)\n",
        "\n",
        "# Compare predictions before and after smoothing\n",
        "print(\"Predictions without smoothing:\", y_pred_no_smoothing[:10])\n",
        "print(\"Predictions with smoothing:\", y_pred_with_smoothing[:10])\n"
      ],
      "metadata": {
        "colab": {
          "base_uri": "https://localhost:8080/"
        },
        "id": "irMGQyBY2thJ",
        "outputId": "653c5c09-e56a-44e9-b6df-1e431a9dc806"
      },
      "execution_count": null,
      "outputs": [
        {
          "output_type": "stream",
          "name": "stdout",
          "text": [
            "Accuracy without Laplace Smoothing: 0.9777777777777777\n",
            "Accuracy with Laplace Smoothing: 0.9777777777777777\n",
            "Predictions without smoothing: [1 0 2 1 1 0 1 2 1 1]\n",
            "Predictions with smoothing: [1 0 2 1 1 0 1 2 1 1]\n"
          ]
        }
      ]
    },
    {
      "cell_type": "code",
      "source": [
        "# 33\n",
        "\n",
        "\n",
        "from sklearn.datasets import load_iris\n",
        "from sklearn.model_selection import train_test_split, GridSearchCV\n",
        "from sklearn.svm import SVC\n",
        "from sklearn.metrics import accuracy_score\n",
        "\n",
        "# Load the Iris dataset\n",
        "data = load_iris()\n",
        "X = data.data\n",
        "y = data.target\n",
        "\n",
        "# Split the dataset into training and testing sets\n",
        "X_train, X_test, y_train, y_test = train_test_split(X, y, test_size=0.3, random_state=42)\n",
        "\n",
        "# Initialize the SVM model\n",
        "svm = SVC()\n",
        "\n",
        "# Define the parameter grid for GridSearchCV\n",
        "param_grid = {\n",
        "    'C': [0.1, 1, 10],\n",
        "    'gamma': ['scale', 'auto'],\n",
        "    'kernel': ['linear', 'rbf', 'poly']\n",
        "}\n",
        "\n",
        "# Use GridSearchCV to find the best hyperparameters\n",
        "grid_search = GridSearchCV(estimator=svm, param_grid=param_grid, cv=5)\n",
        "grid_search.fit(X_train, y_train)\n",
        "\n",
        "# Print the best hyperparameters found by GridSearchCV\n",
        "print(\"Best parameters found by GridSearchCV:\", grid_search.best_params_)\n",
        "\n",
        "# Get the best model from the grid search\n",
        "best_svm = grid_search.best_estimator_\n",
        "\n",
        "# Make predictions using the best model\n",
        "y_pred = best_svm.predict(X_test)\n",
        "\n",
        "# Calculate accuracy of the best model\n",
        "accuracy = accuracy_score(y_test, y_pred)\n",
        "print(\"Accuracy of the best SVM model:\", accuracy)\n"
      ],
      "metadata": {
        "colab": {
          "base_uri": "https://localhost:8080/"
        },
        "id": "I-PHUnnD2tel",
        "outputId": "37537974-a31a-48e6-d4ae-2da724bafcbe"
      },
      "execution_count": null,
      "outputs": [
        {
          "output_type": "stream",
          "name": "stdout",
          "text": [
            "Best parameters found by GridSearchCV: {'C': 1, 'gamma': 'scale', 'kernel': 'poly'}\n",
            "Accuracy of the best SVM model: 0.9777777777777777\n"
          ]
        }
      ]
    },
    {
      "cell_type": "code",
      "source": [],
      "metadata": {
        "id": "MpNGpsDe2tcE"
      },
      "execution_count": null,
      "outputs": []
    },
    {
      "cell_type": "code",
      "source": [
        "# 34\n",
        "# Program Thirty Four - Python program to implement a Naive Bayes classifier for spam detection using email data\n",
        "\n",
        "import pandas as pd\n",
        "from sklearn.model_selection import train_test_split\n",
        "from sklearn.feature_extraction.text import CountVectorizer\n",
        "from sklearn.naive_bayes import MultinomialNB\n",
        "from sklearn.metrics import accuracy_score\n",
        "\n",
        "# Sample email data (you can replace this with actual email dataset)\n",
        "data = {'email': ['Free money now!', 'Call now for a free trial', 'Discount on products', 'Your invoice is attached', 'Congratulations, you won!'],\n",
        "        'label': [1, 1, 1, 0, 0]}  # 1: spam, 0: not spam\n",
        "df = pd.DataFrame(data)\n",
        "\n",
        "# Split the dataset into training and testing sets\n",
        "X_train, X_test, y_train, y_test = train_test_split(df['email'], df['label'], test_size=0.3, random_state=42)\n",
        "\n",
        "# Convert emails to word counts (Bag of Words)\n",
        "vectorizer = CountVectorizer()\n",
        "X_train_vec = vectorizer.fit_transform(X_train)\n",
        "X_test_vec = vectorizer.transform(X_test)\n",
        "\n",
        "# Train Naive Bayes classifier\n",
        "nb = MultinomialNB()\n",
        "nb.fit(X_train_vec, y_train)\n",
        "\n",
        "# Predict and evaluate accuracy\n",
        "y_pred = nb.predict(X_test_vec)\n",
        "accuracy = accuracy_score(y_test, y_pred)\n",
        "print(\"Accuracy of Naive Bayes classifier for spam detection:\", accuracy)\n"
      ],
      "metadata": {
        "colab": {
          "base_uri": "https://localhost:8080/"
        },
        "id": "hNqy7Mqx2tZr",
        "outputId": "a551a254-9a14-44d4-9641-c7fbfa6adf76"
      },
      "execution_count": null,
      "outputs": [
        {
          "output_type": "stream",
          "name": "stdout",
          "text": [
            "Accuracy of Naive Bayes classifier for spam detection: 0.5\n"
          ]
        }
      ]
    },
    {
      "cell_type": "code",
      "source": [
        "# Program Thirty Five - Python program to train an SVM Classifier and Naive Bayes Classifier on the same dataset and compare their accuracy\n",
        "\n",
        "from sklearn.datasets import load_iris\n",
        "from sklearn.model_selection import train_test_split\n",
        "from sklearn.svm import SVC\n",
        "from sklearn.naive_bayes import GaussianNB\n",
        "from sklearn.metrics import accuracy_score\n",
        "\n",
        "# Load the Iris dataset\n",
        "data = load_iris()\n",
        "X = data.data\n",
        "y = data.target\n",
        "\n",
        "# Split dataset into training and testing sets\n",
        "X_train, X_test, y_train, y_test = train_test_split(X, y, test_size=0.3, random_state=42)\n",
        "\n",
        "# Train SVM Classifier\n",
        "svm = SVC(kernel='linear')\n",
        "svm.fit(X_train, y_train)\n",
        "\n",
        "# Train Naive Bayes Classifier\n",
        "nb = GaussianNB()\n",
        "nb.fit(X_train, y_train)\n",
        "\n",
        "# Predict with both models\n",
        "y_pred_svm = svm.predict(X_test)\n",
        "y_pred_nb = nb.predict(X_test)\n",
        "\n",
        "# Calculate accuracy for both models\n",
        "accuracy_svm = accuracy_score(y_test, y_pred_svm)\n",
        "accuracy_nb = accuracy_score(y_test, y_pred_nb)\n",
        "\n",
        "print(\"Accuracy of SVM Classifier:\", accuracy_svm)\n",
        "print(\"Accuracy of Naive Bayes Classifier:\", accuracy_nb)"
      ],
      "metadata": {
        "colab": {
          "base_uri": "https://localhost:8080/"
        },
        "id": "U85FHKNh2tXR",
        "outputId": "de490353-2500-443e-d984-0277dd97486f"
      },
      "execution_count": null,
      "outputs": [
        {
          "output_type": "stream",
          "name": "stdout",
          "text": [
            "Accuracy of SVM Classifier: 1.0\n",
            "Accuracy of Naive Bayes Classifier: 0.9777777777777777\n"
          ]
        }
      ]
    },
    {
      "cell_type": "code",
      "source": [
        "# 36 Program Thirty Six - Python program to perform feature selection before training a Naive Bayes classifier and compare results\n",
        "\n",
        "from sklearn.datasets import load_iris\n",
        "from sklearn.model_selection import train_test_split\n",
        "from sklearn.naive_bayes import GaussianNB\n",
        "from sklearn.feature_selection import SelectKBest, f_classif\n",
        "from sklearn.metrics import accuracy_score\n",
        "\n",
        "# Load the Iris dataset\n",
        "data = load_iris()\n",
        "X = data.data\n",
        "y = data.target\n",
        "\n",
        "# Split dataset into training and testing sets\n",
        "X_train, X_test, y_train, y_test = train_test_split(X, y, test_size=0.3, random_state=42)\n",
        "\n",
        "# Perform feature selection\n",
        "selector = SelectKBest(score_func=f_classif, k=2)  # Select top 2 features\n",
        "X_train_selected = selector.fit_transform(X_train, y_train)\n",
        "X_test_selected = selector.transform(X_test)\n",
        "\n",
        "# Train Naive Bayes classifier with selected features\n",
        "nb = GaussianNB()\n",
        "nb.fit(X_train_selected, y_train)\n",
        "\n",
        "# Predict and evaluate accuracy\n",
        "y_pred = nb.predict(X_test_selected)\n",
        "accuracy = accuracy_score(y_test, y_pred)\n",
        "print(\"Accuracy after feature selection:\", accuracy)"
      ],
      "metadata": {
        "colab": {
          "base_uri": "https://localhost:8080/"
        },
        "id": "S-D4vIv52tUw",
        "outputId": "1b5b3802-1120-4c59-c71a-a1b79c05e542"
      },
      "execution_count": null,
      "outputs": [
        {
          "output_type": "stream",
          "name": "stdout",
          "text": [
            "Accuracy after feature selection: 1.0\n"
          ]
        }
      ]
    },
    {
      "cell_type": "code",
      "source": [],
      "metadata": {
        "id": "ck-AH5qo2tSC"
      },
      "execution_count": null,
      "outputs": []
    },
    {
      "cell_type": "code",
      "source": [
        "#Program Thirty Seven - Python program to train an SVM Classifier using One-vs-Rest (OvR) and One-vs-One (OvO) strategies on the Wine dataset and compare their accuracy\n",
        "\n",
        "from sklearn.datasets import load_wine\n",
        "from sklearn.model_selection import train_test_split\n",
        "from sklearn.svm import SVC\n",
        "from sklearn.metrics import accuracy_score\n",
        "\n",
        "# Load the Wine dataset\n",
        "data = load_wine()\n",
        "X = data.data\n",
        "y = data.target\n",
        "\n",
        "# Split dataset into training and testing sets\n",
        "X_train, X_test, y_train, y_test = train_test_split(X, y, test_size=0.3, random_state=42)\n",
        "\n",
        "# Train SVM using One-vs-Rest (OvR) strategy\n",
        "svm_ovr = SVC(decision_function_shape='ovr')\n",
        "svm_ovr.fit(X_train, y_train)\n",
        "\n",
        "# Train SVM using One-vs-One (OvO) strategy\n",
        "svm_ovo = SVC(decision_function_shape='ovo')\n",
        "svm_ovo.fit(X_train, y_train)\n",
        "\n",
        "# Predict and evaluate accuracy for both strategies\n",
        "y_pred_ovr = svm_ovr.predict(X_test)\n",
        "y_pred_ovo = svm_ovo.predict(X_test)\n",
        "\n",
        "accuracy_ovr = accuracy_score(y_test, y_pred_ovr)\n",
        "accuracy_ovo = accuracy_score(y_test, y_pred_ovo)\n",
        "\n",
        "print(\"Accuracy with One-vs-Rest strategy:\", accuracy_ovr)\n",
        "print(\"Accuracy with One-vs-One strategy:\", accuracy_ovo)\n",
        "\n",
        "\n",
        "# Train SVM with RBF kernel\n",
        "svm_rbf = SVC(kernel='rbf')\n",
        "svm_rbf.fit(X_train, y_train)\n",
        "\n",
        "# Predict and evaluate accuracy for all models\n",
        "y_pred_linear = svm_linear.predict(X_test)\n",
        "y_pred_poly = svm_poly.predict(X_test)\n",
        "y_pred_rbf = svm_rbf.predict(X_test)\n",
        "\n",
        "accuracy_linear = accuracy_score(y_test, y_pred_linear)\n",
        "accuracy_poly = accuracy_score(y_test, y_pred_poly)\n",
        "accuracy_rbf = accuracy_score(y_test, y_pred_rbf)\n",
        "\n",
        "print(\"Accuracy with Linear kernel:\", accuracy_linear)\n",
        "print(\"Accuracy with Polynomial kernel:\", accuracy_poly)\n",
        "print(\"Accuracy with RBF kernel:\", accuracy_rbf)\n"
      ],
      "metadata": {
        "id": "yuXnnqvh2tPs"
      },
      "execution_count": null,
      "outputs": []
    },
    {
      "cell_type": "code",
      "source": [],
      "metadata": {
        "id": "r8N4tnr_2tM5"
      },
      "execution_count": null,
      "outputs": []
    },
    {
      "cell_type": "code",
      "source": [
        "#Program Thirty Eight - Python program to train an SVM Classifier using Linear, Polynomial, and RBF kernels on the Breast Cancer dataset and compare their accuracy\n",
        "\n",
        "from sklearn.datasets import load_breast_cancer\n",
        "from sklearn.model_selection import train_test_split\n",
        "from sklearn.svm import SVC\n",
        "from sklearn.metrics import accuracy_score\n",
        "\n",
        "# Load the Breast Cancer dataset\n",
        "data = load_breast_cancer()\n",
        "X = data.data\n",
        "y = data.target\n",
        "\n",
        "# Split dataset into training and testing sets\n",
        "X_train, X_test, y_train, y_test = train_test_split(X, y, test_size=0.3, random_state=42)\n",
        "\n",
        "# Train SVM with Linear kernel\n",
        "svm_linear = SVC(kernel='linear')\n",
        "svm_linear.fit(X_train, y_train)\n",
        "\n",
        "# Train SVM with Polynomial kernel\n",
        "svm_poly = SVC(kernel='poly', degree=3)\n",
        "svm_poly.fit(X_train, y_train)"
      ],
      "metadata": {
        "colab": {
          "base_uri": "https://localhost:8080/",
          "height": 80
        },
        "id": "TZd1l2dZ2tKb",
        "outputId": "923a10ee-dbf4-418a-ecf2-4d1e8febb4c8"
      },
      "execution_count": null,
      "outputs": [
        {
          "output_type": "execute_result",
          "data": {
            "text/plain": [
              "SVC(kernel='poly')"
            ],
            "text/html": [
              "<style>#sk-container-id-1 {\n",
              "  /* Definition of color scheme common for light and dark mode */\n",
              "  --sklearn-color-text: #000;\n",
              "  --sklearn-color-text-muted: #666;\n",
              "  --sklearn-color-line: gray;\n",
              "  /* Definition of color scheme for unfitted estimators */\n",
              "  --sklearn-color-unfitted-level-0: #fff5e6;\n",
              "  --sklearn-color-unfitted-level-1: #f6e4d2;\n",
              "  --sklearn-color-unfitted-level-2: #ffe0b3;\n",
              "  --sklearn-color-unfitted-level-3: chocolate;\n",
              "  /* Definition of color scheme for fitted estimators */\n",
              "  --sklearn-color-fitted-level-0: #f0f8ff;\n",
              "  --sklearn-color-fitted-level-1: #d4ebff;\n",
              "  --sklearn-color-fitted-level-2: #b3dbfd;\n",
              "  --sklearn-color-fitted-level-3: cornflowerblue;\n",
              "\n",
              "  /* Specific color for light theme */\n",
              "  --sklearn-color-text-on-default-background: var(--sg-text-color, var(--theme-code-foreground, var(--jp-content-font-color1, black)));\n",
              "  --sklearn-color-background: var(--sg-background-color, var(--theme-background, var(--jp-layout-color0, white)));\n",
              "  --sklearn-color-border-box: var(--sg-text-color, var(--theme-code-foreground, var(--jp-content-font-color1, black)));\n",
              "  --sklearn-color-icon: #696969;\n",
              "\n",
              "  @media (prefers-color-scheme: dark) {\n",
              "    /* Redefinition of color scheme for dark theme */\n",
              "    --sklearn-color-text-on-default-background: var(--sg-text-color, var(--theme-code-foreground, var(--jp-content-font-color1, white)));\n",
              "    --sklearn-color-background: var(--sg-background-color, var(--theme-background, var(--jp-layout-color0, #111)));\n",
              "    --sklearn-color-border-box: var(--sg-text-color, var(--theme-code-foreground, var(--jp-content-font-color1, white)));\n",
              "    --sklearn-color-icon: #878787;\n",
              "  }\n",
              "}\n",
              "\n",
              "#sk-container-id-1 {\n",
              "  color: var(--sklearn-color-text);\n",
              "}\n",
              "\n",
              "#sk-container-id-1 pre {\n",
              "  padding: 0;\n",
              "}\n",
              "\n",
              "#sk-container-id-1 input.sk-hidden--visually {\n",
              "  border: 0;\n",
              "  clip: rect(1px 1px 1px 1px);\n",
              "  clip: rect(1px, 1px, 1px, 1px);\n",
              "  height: 1px;\n",
              "  margin: -1px;\n",
              "  overflow: hidden;\n",
              "  padding: 0;\n",
              "  position: absolute;\n",
              "  width: 1px;\n",
              "}\n",
              "\n",
              "#sk-container-id-1 div.sk-dashed-wrapped {\n",
              "  border: 1px dashed var(--sklearn-color-line);\n",
              "  margin: 0 0.4em 0.5em 0.4em;\n",
              "  box-sizing: border-box;\n",
              "  padding-bottom: 0.4em;\n",
              "  background-color: var(--sklearn-color-background);\n",
              "}\n",
              "\n",
              "#sk-container-id-1 div.sk-container {\n",
              "  /* jupyter's `normalize.less` sets `[hidden] { display: none; }`\n",
              "     but bootstrap.min.css set `[hidden] { display: none !important; }`\n",
              "     so we also need the `!important` here to be able to override the\n",
              "     default hidden behavior on the sphinx rendered scikit-learn.org.\n",
              "     See: https://github.com/scikit-learn/scikit-learn/issues/21755 */\n",
              "  display: inline-block !important;\n",
              "  position: relative;\n",
              "}\n",
              "\n",
              "#sk-container-id-1 div.sk-text-repr-fallback {\n",
              "  display: none;\n",
              "}\n",
              "\n",
              "div.sk-parallel-item,\n",
              "div.sk-serial,\n",
              "div.sk-item {\n",
              "  /* draw centered vertical line to link estimators */\n",
              "  background-image: linear-gradient(var(--sklearn-color-text-on-default-background), var(--sklearn-color-text-on-default-background));\n",
              "  background-size: 2px 100%;\n",
              "  background-repeat: no-repeat;\n",
              "  background-position: center center;\n",
              "}\n",
              "\n",
              "/* Parallel-specific style estimator block */\n",
              "\n",
              "#sk-container-id-1 div.sk-parallel-item::after {\n",
              "  content: \"\";\n",
              "  width: 100%;\n",
              "  border-bottom: 2px solid var(--sklearn-color-text-on-default-background);\n",
              "  flex-grow: 1;\n",
              "}\n",
              "\n",
              "#sk-container-id-1 div.sk-parallel {\n",
              "  display: flex;\n",
              "  align-items: stretch;\n",
              "  justify-content: center;\n",
              "  background-color: var(--sklearn-color-background);\n",
              "  position: relative;\n",
              "}\n",
              "\n",
              "#sk-container-id-1 div.sk-parallel-item {\n",
              "  display: flex;\n",
              "  flex-direction: column;\n",
              "}\n",
              "\n",
              "#sk-container-id-1 div.sk-parallel-item:first-child::after {\n",
              "  align-self: flex-end;\n",
              "  width: 50%;\n",
              "}\n",
              "\n",
              "#sk-container-id-1 div.sk-parallel-item:last-child::after {\n",
              "  align-self: flex-start;\n",
              "  width: 50%;\n",
              "}\n",
              "\n",
              "#sk-container-id-1 div.sk-parallel-item:only-child::after {\n",
              "  width: 0;\n",
              "}\n",
              "\n",
              "/* Serial-specific style estimator block */\n",
              "\n",
              "#sk-container-id-1 div.sk-serial {\n",
              "  display: flex;\n",
              "  flex-direction: column;\n",
              "  align-items: center;\n",
              "  background-color: var(--sklearn-color-background);\n",
              "  padding-right: 1em;\n",
              "  padding-left: 1em;\n",
              "}\n",
              "\n",
              "\n",
              "/* Toggleable style: style used for estimator/Pipeline/ColumnTransformer box that is\n",
              "clickable and can be expanded/collapsed.\n",
              "- Pipeline and ColumnTransformer use this feature and define the default style\n",
              "- Estimators will overwrite some part of the style using the `sk-estimator` class\n",
              "*/\n",
              "\n",
              "/* Pipeline and ColumnTransformer style (default) */\n",
              "\n",
              "#sk-container-id-1 div.sk-toggleable {\n",
              "  /* Default theme specific background. It is overwritten whether we have a\n",
              "  specific estimator or a Pipeline/ColumnTransformer */\n",
              "  background-color: var(--sklearn-color-background);\n",
              "}\n",
              "\n",
              "/* Toggleable label */\n",
              "#sk-container-id-1 label.sk-toggleable__label {\n",
              "  cursor: pointer;\n",
              "  display: flex;\n",
              "  width: 100%;\n",
              "  margin-bottom: 0;\n",
              "  padding: 0.5em;\n",
              "  box-sizing: border-box;\n",
              "  text-align: center;\n",
              "  align-items: start;\n",
              "  justify-content: space-between;\n",
              "  gap: 0.5em;\n",
              "}\n",
              "\n",
              "#sk-container-id-1 label.sk-toggleable__label .caption {\n",
              "  font-size: 0.6rem;\n",
              "  font-weight: lighter;\n",
              "  color: var(--sklearn-color-text-muted);\n",
              "}\n",
              "\n",
              "#sk-container-id-1 label.sk-toggleable__label-arrow:before {\n",
              "  /* Arrow on the left of the label */\n",
              "  content: \"▸\";\n",
              "  float: left;\n",
              "  margin-right: 0.25em;\n",
              "  color: var(--sklearn-color-icon);\n",
              "}\n",
              "\n",
              "#sk-container-id-1 label.sk-toggleable__label-arrow:hover:before {\n",
              "  color: var(--sklearn-color-text);\n",
              "}\n",
              "\n",
              "/* Toggleable content - dropdown */\n",
              "\n",
              "#sk-container-id-1 div.sk-toggleable__content {\n",
              "  max-height: 0;\n",
              "  max-width: 0;\n",
              "  overflow: hidden;\n",
              "  text-align: left;\n",
              "  /* unfitted */\n",
              "  background-color: var(--sklearn-color-unfitted-level-0);\n",
              "}\n",
              "\n",
              "#sk-container-id-1 div.sk-toggleable__content.fitted {\n",
              "  /* fitted */\n",
              "  background-color: var(--sklearn-color-fitted-level-0);\n",
              "}\n",
              "\n",
              "#sk-container-id-1 div.sk-toggleable__content pre {\n",
              "  margin: 0.2em;\n",
              "  border-radius: 0.25em;\n",
              "  color: var(--sklearn-color-text);\n",
              "  /* unfitted */\n",
              "  background-color: var(--sklearn-color-unfitted-level-0);\n",
              "}\n",
              "\n",
              "#sk-container-id-1 div.sk-toggleable__content.fitted pre {\n",
              "  /* unfitted */\n",
              "  background-color: var(--sklearn-color-fitted-level-0);\n",
              "}\n",
              "\n",
              "#sk-container-id-1 input.sk-toggleable__control:checked~div.sk-toggleable__content {\n",
              "  /* Expand drop-down */\n",
              "  max-height: 200px;\n",
              "  max-width: 100%;\n",
              "  overflow: auto;\n",
              "}\n",
              "\n",
              "#sk-container-id-1 input.sk-toggleable__control:checked~label.sk-toggleable__label-arrow:before {\n",
              "  content: \"▾\";\n",
              "}\n",
              "\n",
              "/* Pipeline/ColumnTransformer-specific style */\n",
              "\n",
              "#sk-container-id-1 div.sk-label input.sk-toggleable__control:checked~label.sk-toggleable__label {\n",
              "  color: var(--sklearn-color-text);\n",
              "  background-color: var(--sklearn-color-unfitted-level-2);\n",
              "}\n",
              "\n",
              "#sk-container-id-1 div.sk-label.fitted input.sk-toggleable__control:checked~label.sk-toggleable__label {\n",
              "  background-color: var(--sklearn-color-fitted-level-2);\n",
              "}\n",
              "\n",
              "/* Estimator-specific style */\n",
              "\n",
              "/* Colorize estimator box */\n",
              "#sk-container-id-1 div.sk-estimator input.sk-toggleable__control:checked~label.sk-toggleable__label {\n",
              "  /* unfitted */\n",
              "  background-color: var(--sklearn-color-unfitted-level-2);\n",
              "}\n",
              "\n",
              "#sk-container-id-1 div.sk-estimator.fitted input.sk-toggleable__control:checked~label.sk-toggleable__label {\n",
              "  /* fitted */\n",
              "  background-color: var(--sklearn-color-fitted-level-2);\n",
              "}\n",
              "\n",
              "#sk-container-id-1 div.sk-label label.sk-toggleable__label,\n",
              "#sk-container-id-1 div.sk-label label {\n",
              "  /* The background is the default theme color */\n",
              "  color: var(--sklearn-color-text-on-default-background);\n",
              "}\n",
              "\n",
              "/* On hover, darken the color of the background */\n",
              "#sk-container-id-1 div.sk-label:hover label.sk-toggleable__label {\n",
              "  color: var(--sklearn-color-text);\n",
              "  background-color: var(--sklearn-color-unfitted-level-2);\n",
              "}\n",
              "\n",
              "/* Label box, darken color on hover, fitted */\n",
              "#sk-container-id-1 div.sk-label.fitted:hover label.sk-toggleable__label.fitted {\n",
              "  color: var(--sklearn-color-text);\n",
              "  background-color: var(--sklearn-color-fitted-level-2);\n",
              "}\n",
              "\n",
              "/* Estimator label */\n",
              "\n",
              "#sk-container-id-1 div.sk-label label {\n",
              "  font-family: monospace;\n",
              "  font-weight: bold;\n",
              "  display: inline-block;\n",
              "  line-height: 1.2em;\n",
              "}\n",
              "\n",
              "#sk-container-id-1 div.sk-label-container {\n",
              "  text-align: center;\n",
              "}\n",
              "\n",
              "/* Estimator-specific */\n",
              "#sk-container-id-1 div.sk-estimator {\n",
              "  font-family: monospace;\n",
              "  border: 1px dotted var(--sklearn-color-border-box);\n",
              "  border-radius: 0.25em;\n",
              "  box-sizing: border-box;\n",
              "  margin-bottom: 0.5em;\n",
              "  /* unfitted */\n",
              "  background-color: var(--sklearn-color-unfitted-level-0);\n",
              "}\n",
              "\n",
              "#sk-container-id-1 div.sk-estimator.fitted {\n",
              "  /* fitted */\n",
              "  background-color: var(--sklearn-color-fitted-level-0);\n",
              "}\n",
              "\n",
              "/* on hover */\n",
              "#sk-container-id-1 div.sk-estimator:hover {\n",
              "  /* unfitted */\n",
              "  background-color: var(--sklearn-color-unfitted-level-2);\n",
              "}\n",
              "\n",
              "#sk-container-id-1 div.sk-estimator.fitted:hover {\n",
              "  /* fitted */\n",
              "  background-color: var(--sklearn-color-fitted-level-2);\n",
              "}\n",
              "\n",
              "/* Specification for estimator info (e.g. \"i\" and \"?\") */\n",
              "\n",
              "/* Common style for \"i\" and \"?\" */\n",
              "\n",
              ".sk-estimator-doc-link,\n",
              "a:link.sk-estimator-doc-link,\n",
              "a:visited.sk-estimator-doc-link {\n",
              "  float: right;\n",
              "  font-size: smaller;\n",
              "  line-height: 1em;\n",
              "  font-family: monospace;\n",
              "  background-color: var(--sklearn-color-background);\n",
              "  border-radius: 1em;\n",
              "  height: 1em;\n",
              "  width: 1em;\n",
              "  text-decoration: none !important;\n",
              "  margin-left: 0.5em;\n",
              "  text-align: center;\n",
              "  /* unfitted */\n",
              "  border: var(--sklearn-color-unfitted-level-1) 1pt solid;\n",
              "  color: var(--sklearn-color-unfitted-level-1);\n",
              "}\n",
              "\n",
              ".sk-estimator-doc-link.fitted,\n",
              "a:link.sk-estimator-doc-link.fitted,\n",
              "a:visited.sk-estimator-doc-link.fitted {\n",
              "  /* fitted */\n",
              "  border: var(--sklearn-color-fitted-level-1) 1pt solid;\n",
              "  color: var(--sklearn-color-fitted-level-1);\n",
              "}\n",
              "\n",
              "/* On hover */\n",
              "div.sk-estimator:hover .sk-estimator-doc-link:hover,\n",
              ".sk-estimator-doc-link:hover,\n",
              "div.sk-label-container:hover .sk-estimator-doc-link:hover,\n",
              ".sk-estimator-doc-link:hover {\n",
              "  /* unfitted */\n",
              "  background-color: var(--sklearn-color-unfitted-level-3);\n",
              "  color: var(--sklearn-color-background);\n",
              "  text-decoration: none;\n",
              "}\n",
              "\n",
              "div.sk-estimator.fitted:hover .sk-estimator-doc-link.fitted:hover,\n",
              ".sk-estimator-doc-link.fitted:hover,\n",
              "div.sk-label-container:hover .sk-estimator-doc-link.fitted:hover,\n",
              ".sk-estimator-doc-link.fitted:hover {\n",
              "  /* fitted */\n",
              "  background-color: var(--sklearn-color-fitted-level-3);\n",
              "  color: var(--sklearn-color-background);\n",
              "  text-decoration: none;\n",
              "}\n",
              "\n",
              "/* Span, style for the box shown on hovering the info icon */\n",
              ".sk-estimator-doc-link span {\n",
              "  display: none;\n",
              "  z-index: 9999;\n",
              "  position: relative;\n",
              "  font-weight: normal;\n",
              "  right: .2ex;\n",
              "  padding: .5ex;\n",
              "  margin: .5ex;\n",
              "  width: min-content;\n",
              "  min-width: 20ex;\n",
              "  max-width: 50ex;\n",
              "  color: var(--sklearn-color-text);\n",
              "  box-shadow: 2pt 2pt 4pt #999;\n",
              "  /* unfitted */\n",
              "  background: var(--sklearn-color-unfitted-level-0);\n",
              "  border: .5pt solid var(--sklearn-color-unfitted-level-3);\n",
              "}\n",
              "\n",
              ".sk-estimator-doc-link.fitted span {\n",
              "  /* fitted */\n",
              "  background: var(--sklearn-color-fitted-level-0);\n",
              "  border: var(--sklearn-color-fitted-level-3);\n",
              "}\n",
              "\n",
              ".sk-estimator-doc-link:hover span {\n",
              "  display: block;\n",
              "}\n",
              "\n",
              "/* \"?\"-specific style due to the `<a>` HTML tag */\n",
              "\n",
              "#sk-container-id-1 a.estimator_doc_link {\n",
              "  float: right;\n",
              "  font-size: 1rem;\n",
              "  line-height: 1em;\n",
              "  font-family: monospace;\n",
              "  background-color: var(--sklearn-color-background);\n",
              "  border-radius: 1rem;\n",
              "  height: 1rem;\n",
              "  width: 1rem;\n",
              "  text-decoration: none;\n",
              "  /* unfitted */\n",
              "  color: var(--sklearn-color-unfitted-level-1);\n",
              "  border: var(--sklearn-color-unfitted-level-1) 1pt solid;\n",
              "}\n",
              "\n",
              "#sk-container-id-1 a.estimator_doc_link.fitted {\n",
              "  /* fitted */\n",
              "  border: var(--sklearn-color-fitted-level-1) 1pt solid;\n",
              "  color: var(--sklearn-color-fitted-level-1);\n",
              "}\n",
              "\n",
              "/* On hover */\n",
              "#sk-container-id-1 a.estimator_doc_link:hover {\n",
              "  /* unfitted */\n",
              "  background-color: var(--sklearn-color-unfitted-level-3);\n",
              "  color: var(--sklearn-color-background);\n",
              "  text-decoration: none;\n",
              "}\n",
              "\n",
              "#sk-container-id-1 a.estimator_doc_link.fitted:hover {\n",
              "  /* fitted */\n",
              "  background-color: var(--sklearn-color-fitted-level-3);\n",
              "}\n",
              "</style><div id=\"sk-container-id-1\" class=\"sk-top-container\"><div class=\"sk-text-repr-fallback\"><pre>SVC(kernel=&#x27;poly&#x27;)</pre><b>In a Jupyter environment, please rerun this cell to show the HTML representation or trust the notebook. <br />On GitHub, the HTML representation is unable to render, please try loading this page with nbviewer.org.</b></div><div class=\"sk-container\" hidden><div class=\"sk-item\"><div class=\"sk-estimator fitted sk-toggleable\"><input class=\"sk-toggleable__control sk-hidden--visually\" id=\"sk-estimator-id-1\" type=\"checkbox\" checked><label for=\"sk-estimator-id-1\" class=\"sk-toggleable__label fitted sk-toggleable__label-arrow\"><div><div>SVC</div></div><div><a class=\"sk-estimator-doc-link fitted\" rel=\"noreferrer\" target=\"_blank\" href=\"https://scikit-learn.org/1.6/modules/generated/sklearn.svm.SVC.html\">?<span>Documentation for SVC</span></a><span class=\"sk-estimator-doc-link fitted\">i<span>Fitted</span></span></div></label><div class=\"sk-toggleable__content fitted\"><pre>SVC(kernel=&#x27;poly&#x27;)</pre></div> </div></div></div></div>"
            ]
          },
          "metadata": {},
          "execution_count": 18
        }
      ]
    },
    {
      "cell_type": "code",
      "source": [
        "#39 Program Thirty Nine - Python program to train an SVM Classifier using Stratified K-Fold Cross-Validation and compute the average accuracy\n",
        "\n",
        "from sklearn.datasets import load_breast_cancer\n",
        "from sklearn.model_selection import StratifiedKFold, cross_val_score\n",
        "from sklearn.svm import SVC\n",
        "\n",
        "# Load the Breast Cancer dataset\n",
        "data = load_breast_cancer()\n",
        "X = data.data\n",
        "y = data.target\n",
        "\n",
        "# Initialize StratifiedKFold\n",
        "skf = StratifiedKFold(n_splits=5, shuffle=True, random_state=42)\n",
        "\n",
        "# Initialize SVM Classifier\n",
        "svm = SVC(kernel='linear')\n",
        "\n",
        "# Perform Stratified K-Fold Cross-Validation\n",
        "cv_scores = cross_val_score(svm, X, y, cv=skf)\n",
        "\n",
        "# Print the average accuracy\n",
        "print(\"Average accuracy with Stratified K-Fold Cross-Validation:\", cv_scores.mean())"
      ],
      "metadata": {
        "colab": {
          "base_uri": "https://localhost:8080/"
        },
        "id": "Klz0k0GU2tHr",
        "outputId": "c40904f8-2ab5-40a1-d1c7-6c931099cc4f"
      },
      "execution_count": null,
      "outputs": [
        {
          "output_type": "stream",
          "name": "stdout",
          "text": [
            "Average accuracy with Stratified K-Fold Cross-Validation: 0.9473063188945815\n"
          ]
        }
      ]
    },
    {
      "cell_type": "code",
      "source": [
        "# 40 Program Forty - Python program to train a Naive Bayes classifier using different prior probabilities and compare performance\n",
        "\n",
        "from sklearn.datasets import load_iris\n",
        "from sklearn.model_selection import train_test_split\n",
        "from sklearn.naive_bayes import GaussianNB\n",
        "from sklearn.metrics import accuracy_score\n",
        "\n",
        "# Load the Iris dataset\n",
        "data = load_iris()\n",
        "X = data.data\n",
        "y = data.target\n",
        "\n",
        "# Split dataset into training and testing sets\n",
        "X_train, X_test, y_train, y_test = train_test_split(X, y, test_size=0.3, random_state=42)\n",
        "\n",
        "# Train Naive Bayes classifier with different prior probabilities\n",
        "nb_default = GaussianNB(priors=None)  # Default prior (equal priors)\n",
        "nb_default.fit(X_train, y_train)\n",
        "\n",
        "nb_custom = GaussianNB(priors=[0.2, 0.4, 0.4])  # Custom prior probabilities\n",
        "nb_custom.fit(X_train, y_train)\n",
        "\n",
        "# Predict and evaluate accuracy\n",
        "y_pred_default = nb_default.predict(X_test)\n",
        "y_pred_custom = nb_custom.predict(X_test)\n",
        "\n",
        "accuracy_default = accuracy_score(y_test, y_pred_default)\n",
        "accuracy_custom = accuracy_score(y_test, y_pred_custom)\n",
        "\n",
        "print(\"Accuracy with default prior probabilities:\", accuracy_default)\n",
        "print(\"Accuracy with custom prior probabilities:\", accuracy_custom)\n"
      ],
      "metadata": {
        "colab": {
          "base_uri": "https://localhost:8080/"
        },
        "id": "Ag6eVrMq2tFP",
        "outputId": "598b2bc3-1cd9-4dea-93a9-1314caba80c5"
      },
      "execution_count": null,
      "outputs": [
        {
          "output_type": "stream",
          "name": "stdout",
          "text": [
            "Accuracy with default prior probabilities: 0.9777777777777777\n",
            "Accuracy with custom prior probabilities: 0.9777777777777777\n"
          ]
        }
      ]
    },
    {
      "cell_type": "code",
      "source": [
        "# 1 Program Forty One - Python program to perform Recursive Feature Elimination (RFE) before training an SVM Classifier and compare accuracy\n",
        "\n",
        "from sklearn.datasets import load_breast_cancer\n",
        "from sklearn.model_selection import train_test_split\n",
        "from sklearn.svm import SVC\n",
        "from sklearn.feature_selection import RFE\n",
        "from sklearn.metrics import accuracy_score\n",
        "\n",
        "# Load the Breast Cancer dataset\n",
        "data = load_breast_cancer()\n",
        "X = data.data\n",
        "y = data.target\n",
        "\n",
        "# Split dataset into training and testing sets\n",
        "X_train, X_test, y_train, y_test = train_test_split(X, y, test_size=0.3, random_state=42)\n",
        "\n",
        "# Initialize SVM Classifier\n",
        "svm = SVC(kernel='linear')\n",
        "\n",
        "# Perform Recursive Feature Elimination (RFE)\n",
        "selector = RFE(svm, n_features_to_select=5)\n",
        "X_train_rfe = selector.fit_transform(X_train, y_train)\n",
        "X_test_rfe = selector.transform(X_test)\n",
        "\n",
        "# Train SVM Classifier with selected features\n",
        "svm.fit(X_train_rfe, y_train)\n",
        "\n",
        "# Predict and evaluate accuracy\n",
        "y_pred = svm.predict(X_test_rfe)\n",
        "accuracy = accuracy_score(y_test, y_pred)\n",
        "\n",
        "print(\"Accuracy with Recursive Feature Elimination (RFE):\", accuracy)"
      ],
      "metadata": {
        "colab": {
          "base_uri": "https://localhost:8080/"
        },
        "id": "LgtNf47-2tCx",
        "outputId": "7a775827-db64-42b2-ad6d-a9cf33f7e9ac"
      },
      "execution_count": null,
      "outputs": [
        {
          "output_type": "stream",
          "name": "stdout",
          "text": [
            "Accuracy with Recursive Feature Elimination (RFE): 0.9298245614035088\n"
          ]
        }
      ]
    },
    {
      "cell_type": "code",
      "source": [],
      "metadata": {
        "id": "v_L0NIu22tAK"
      },
      "execution_count": null,
      "outputs": []
    },
    {
      "cell_type": "code",
      "source": [
        "#42 Program Forty Two - Python program to train an SVM Classifier and evaluate its performance using Precision, Recall, and F1-Score instead of accuracy\n",
        "\n",
        "from sklearn.datasets import load_breast_cancer\n",
        "from sklearn.model_selection import train_test_split\n",
        "from sklearn.svm import SVC\n",
        "from sklearn.metrics import precision_score, recall_score, f1_score\n",
        "\n",
        "# Load the Breast Cancer dataset\n",
        "data = load_breast_cancer()\n",
        "X = data.data\n",
        "y = data.target\n",
        "\n",
        "# Split dataset into training and testing sets\n",
        "X_train, X_test, y_train, y_test = train_test_split(X, y, test_size=0.3, random_state=42)\n",
        "\n",
        "# Train SVM Classifier\n",
        "svm = SVC(kernel='linear')\n",
        "svm.fit(X_train, y_train)\n",
        "\n",
        "# Predict on the test set\n",
        "y_pred = svm.predict(X_test)\n",
        "\n",
        "# Evaluate using Precision, Recall, and F1-Score\n",
        "precision = precision_score(y_test, y_pred)\n",
        "recall = recall_score(y_test, y_pred)\n",
        "f1 = f1_score(y_test, y_pred)\n",
        "\n",
        "print(\"Precision:\", precision)\n",
        "print(\"Recall:\", recall)\n",
        "print(\"F1-Score:\", f1)"
      ],
      "metadata": {
        "colab": {
          "base_uri": "https://localhost:8080/"
        },
        "id": "9o0D4xJo2s9f",
        "outputId": "a6305523-00ac-46f8-f486-e023ae889f03"
      },
      "execution_count": null,
      "outputs": [
        {
          "output_type": "stream",
          "name": "stdout",
          "text": [
            "Precision: 0.9636363636363636\n",
            "Recall: 0.9814814814814815\n",
            "F1-Score: 0.9724770642201835\n"
          ]
        }
      ]
    },
    {
      "cell_type": "code",
      "source": [
        "# 43\n",
        "from sklearn.datasets import load_breast_cancer\n",
        "from sklearn.model_selection import train_test_split\n",
        "from sklearn.naive_bayes import GaussianNB\n",
        "from sklearn.metrics import log_loss\n",
        "\n",
        "# Load the Breast Cancer dataset\n",
        "data = load_breast_cancer()\n",
        "X = data.data\n",
        "y = data.target\n",
        "\n",
        "# Split dataset into training and testing sets\n",
        "X_train, X_test, y_train, y_test = train_test_split(X, y, test_size=0.3, random_state=42)\n",
        "\n",
        "# Train Naïve Bayes Classifier\n",
        "nb = GaussianNB()\n",
        "nb.fit(X_train, y_train)\n",
        "\n",
        "# Predict probabilities on the test set\n",
        "y_pred_prob = nb.predict_proba(X_test)\n",
        "\n",
        "# Calculate Log Loss (Cross-Entropy Loss)\n",
        "loss = log_loss(y_test, y_pred_prob)\n",
        "\n",
        "print(\"Log Loss:\", loss)\n"
      ],
      "metadata": {
        "colab": {
          "base_uri": "https://localhost:8080/"
        },
        "id": "QEhrjE672s63",
        "outputId": "60a1c599-d7c1-4192-e176-535cce2e4f23"
      },
      "execution_count": null,
      "outputs": [
        {
          "output_type": "stream",
          "name": "stdout",
          "text": [
            "Log Loss: 0.48986013210958873\n"
          ]
        }
      ]
    },
    {
      "cell_type": "code",
      "source": [
        "# 44\n",
        "\n",
        "\n",
        "\n",
        "import seaborn as sns\n",
        "import matplotlib.pyplot as plt\n",
        "from sklearn.datasets import load_breast_cancer\n",
        "from sklearn.model_selection import train_test_split\n",
        "from sklearn.svm import SVC\n",
        "from sklearn.metrics import confusion_matrix\n",
        "\n",
        "# Load the Breast Cancer dataset\n",
        "data = load_breast_cancer()\n",
        "X = data.data\n",
        "y = data.target\n",
        "\n",
        "# Split dataset into training and testing sets\n",
        "X_train, X_test, y_train, y_test = train_test_split(X, y, test_size=0.3, random_state=42)\n",
        "\n",
        "# Train SVM Classifier\n",
        "svm = SVC(kernel='linear')\n",
        "svm.fit(X_train, y_train)\n",
        "\n",
        "# Predict on the test set\n",
        "y_pred = svm.predict(X_test)\n",
        "\n",
        "# Generate confusion matrix\n",
        "cm = confusion_matrix(y_test, y_pred)\n",
        "\n",
        "# Visualize the confusion matrix using seaborn heatmap\n",
        "plt.figure(figsize=(6,6))\n",
        "sns.heatmap(cm, annot=True, fmt='d', cmap='Blues', xticklabels=['Malignant', 'Benign'], yticklabels=['Malignant', 'Benign'])\n",
        "plt.title('Confusion Matrix')\n",
        "plt.xlabel('Predicted')\n",
        "plt.ylabel('True')\n",
        "plt.show()\n"
      ],
      "metadata": {
        "colab": {
          "base_uri": "https://localhost:8080/",
          "height": 564
        },
        "id": "tMEynMFF2s4S",
        "outputId": "d53c1332-6e19-4d36-9ba0-da1f3148e182"
      },
      "execution_count": null,
      "outputs": [
        {
          "output_type": "display_data",
          "data": {
            "text/plain": [
              "<Figure size 600x600 with 2 Axes>"
            ],
            "image/png": "[encoded data removed]"
          },
          "metadata": {}
        }
      ]
    },
    {
      "cell_type": "code",
      "source": [],
      "metadata": {
        "id": "aukq5pos2s1x"
      },
      "execution_count": null,
      "outputs": []
    },
    {
      "cell_type": "code",
      "source": [
        "# 45\n",
        "import pandas as pd\n",
        "import numpy as np\n",
        "from sklearn.model_selection import train_test_split\n",
        "from sklearn.svm import SVR\n",
        "from sklearn.metrics import mean_absolute_error\n",
        "\n",
        "# Load the Boston Housing dataset from the original source\n",
        "# as 'load_boston' has been removed due to ethical concerns.\n",
        "data_url = \"http://lib.stat.cmu.edu/datasets/boston\"\n",
        "raw_df = pd.read_csv(data_url, sep=\"\\s+\", skiprows=22, header=None)\n",
        "data = np.hstack([raw_df.values[::2, :], raw_df.values[1::2, :2]])\n",
        "target = raw_df.values[1::2, 2]\n",
        "X = data\n",
        "y = target\n",
        "\n",
        "# Split dataset into training and testing sets\n",
        "X_train, X_test, y_train, y_test = train_test_split(X, y, test_size=0.3, random_state=42)\n",
        "\n",
        "# Train SVM Regressor\n",
        "svr = SVR(kernel='linear')\n",
        "svr.fit(X_train, y_train)\n",
        "\n",
        "# Predict on the test set\n",
        "y_pred = svr.predict(X_test)\n",
        "\n",
        "# Calculate Mean Absolute Error (MAE)\n",
        "mae = mean_absolute_error(y_test, y_pred)\n",
        "\n",
        "print(\"Mean Absolute Error:\", mae)"
      ],
      "metadata": {
        "colab": {
          "base_uri": "https://localhost:8080/"
        },
        "id": "OMTz757K2szK",
        "outputId": "bf2cbb7e-1b84-41e2-f4e2-5868c6feeac7"
      },
      "execution_count": null,
      "outputs": [
        {
          "output_type": "stream",
          "name": "stdout",
          "text": [
            "Mean Absolute Error: 3.186716853299939\n"
          ]
        }
      ]
    },
    {
      "cell_type": "code",
      "source": [],
      "metadata": {
        "id": "U0CCfqL42swu"
      },
      "execution_count": null,
      "outputs": []
    },
    {
      "cell_type": "code",
      "source": [
        "# 46\n",
        "\n",
        "from sklearn.datasets import load_breast_cancer\n",
        "from sklearn.model_selection import train_test_split\n",
        "from sklearn.naive_bayes import GaussianNB\n",
        "from sklearn.metrics import roc_auc_score\n",
        "\n",
        "# Load the Breast Cancer dataset\n",
        "data = load_breast_cancer()\n",
        "X = data.data\n",
        "y = data.target\n",
        "\n",
        "# Split dataset into training and testing sets\n",
        "X_train, X_test, y_train, y_test = train_test_split(X, y, test_size=0.3, random_state=42)\n",
        "\n",
        "# Train Naïve Bayes Classifier\n",
        "nb = GaussianNB()\n",
        "nb.fit(X_train, y_train)\n",
        "\n",
        "# Predict probabilities on the test set\n",
        "y_pred_prob = nb.predict_proba(X_test)[:, 1]  # Probability of the positive class\n",
        "\n",
        "# Calculate ROC-AUC score\n",
        "roc_auc = roc_auc_score(y_test, y_pred_prob)\n",
        "\n",
        "print(\"ROC-AUC Score:\", roc_auc)\n"
      ],
      "metadata": {
        "colab": {
          "base_uri": "https://localhost:8080/"
        },
        "id": "1yad609k2suI",
        "outputId": "cd7bcf29-76e8-40fc-e04d-bc63d3f3d723"
      },
      "execution_count": null,
      "outputs": [
        {
          "output_type": "stream",
          "name": "stdout",
          "text": [
            "ROC-AUC Score: 0.9922104644326867\n"
          ]
        }
      ]
    },
    {
      "cell_type": "code",
      "source": [],
      "metadata": {
        "id": "r2St1PjG2srg"
      },
      "execution_count": null,
      "outputs": []
    },
    {
      "cell_type": "code",
      "source": [],
      "metadata": {
        "id": "W-A6Yjlr2so_"
      },
      "execution_count": null,
      "outputs": []
    },
    {
      "cell_type": "code",
      "source": [],
      "metadata": {
        "id": "N6Pzdtm32smc"
      },
      "execution_count": null,
      "outputs": []
    },
    {
      "cell_type": "code",
      "source": [],
      "metadata": {
        "id": "tO8f1bn-2sj5"
      },
      "execution_count": null,
      "outputs": []
    },
    {
      "cell_type": "code",
      "source": [],
      "metadata": {
        "id": "x1xeKf3v2shY"
      },
      "execution_count": null,
      "outputs": []
    },
    {
      "cell_type": "code",
      "source": [],
      "metadata": {
        "id": "SfMFshTK2sew"
      },
      "execution_count": null,
      "outputs": []
    },
    {
      "cell_type": "code",
      "source": [],
      "metadata": {
        "id": "lj3b9yXt2scd"
      },
      "execution_count": null,
      "outputs": []
    },
    {
      "cell_type": "code",
      "source": [],
      "metadata": {
        "id": "FozHVQld2sZw"
      },
      "execution_count": null,
      "outputs": []
    },
    {
      "cell_type": "code",
      "source": [],
      "metadata": {
        "id": "W9SAos3R2sXT"
      },
      "execution_count": null,
      "outputs": []
    },
    {
      "cell_type": "code",
      "source": [],
      "metadata": {
        "id": "fC0wY7tO2sU3"
      },
      "execution_count": null,
      "outputs": []
    },
    {
      "cell_type": "code",
      "source": [],
      "metadata": {
        "id": "6ph20f2N2sSH"
      },
      "execution_count": null,
      "outputs": []
    },
    {
      "cell_type": "code",
      "source": [],
      "metadata": {
        "id": "mqlC1bIW2sPt"
      },
      "execution_count": null,
      "outputs": []
    },
    {
      "cell_type": "code",
      "source": [],
      "metadata": {
        "id": "hNt5i7-s2sNR"
      },
      "execution_count": null,
      "outputs": []
    },
    {
      "cell_type": "code",
      "source": [],
      "metadata": {
        "id": "0UO7eXb42sKq"
      },
      "execution_count": null,
      "outputs": []
    },
    {
      "cell_type": "code",
      "source": [],
      "metadata": {
        "id": "bZkzSmBx2sIE"
      },
      "execution_count": null,
      "outputs": []
    },
    {
      "cell_type": "code",
      "source": [],
      "metadata": {
        "id": "CMaxD28h2sFb"
      },
      "execution_count": null,
      "outputs": []
    },
    {
      "cell_type": "code",
      "source": [],
      "metadata": {
        "id": "Dkq9bcb12sC4"
      },
      "execution_count": null,
      "outputs": []
    },
    {
      "cell_type": "code",
      "source": [],
      "metadata": {
        "id": "QrzufEvT2sAW"
      },
      "execution_count": null,
      "outputs": []
    },
    {
      "cell_type": "code",
      "source": [],
      "metadata": {
        "id": "muHojw_-2r90"
      },
      "execution_count": null,
      "outputs": []
    },
    {
      "cell_type": "code",
      "source": [],
      "metadata": {
        "id": "Bdk1OZHg2r7V"
      },
      "execution_count": null,
      "outputs": []
    },
    {
      "cell_type": "code",
      "source": [],
      "metadata": {
        "id": "FIeFTLwp2r4t"
      },
      "execution_count": null,
      "outputs": []
    },
    {
      "cell_type": "code",
      "source": [],
      "metadata": {
        "id": "X7QbBL6E2r2R"
      },
      "execution_count": null,
      "outputs": []
    },
    {
      "cell_type": "code",
      "source": [],
      "metadata": {
        "id": "aWnIPTOj2rzn"
      },
      "execution_count": null,
      "outputs": []
    },
    {
      "cell_type": "code",
      "source": [],
      "metadata": {
        "id": "8HRjkpBh2rxX"
      },
      "execution_count": null,
      "outputs": []
    },
    {
      "cell_type": "code",
      "source": [],
      "metadata": {
        "id": "d36iIIx52ruz"
      },
      "execution_count": null,
      "outputs": []
    },
    {
      "cell_type": "code",
      "source": [],
      "metadata": {
        "id": "ox8WTMlz2rsW"
      },
      "execution_count": null,
      "outputs": []
    },
    {
      "cell_type": "code",
      "source": [],
      "metadata": {
        "id": "K5X00V8h2rp1"
      },
      "execution_count": null,
      "outputs": []
    },
    {
      "cell_type": "code",
      "source": [],
      "metadata": {
        "id": "mzP4-U7n2rnZ"
      },
      "execution_count": null,
      "outputs": []
    },
    {
      "cell_type": "code",
      "source": [],
      "metadata": {
        "id": "P-gVhLB72rk_"
      },
      "execution_count": null,
      "outputs": []
    },
    {
      "cell_type": "code",
      "source": [],
      "metadata": {
        "id": "h9rhRvkt2ri0"
      },
      "execution_count": null,
      "outputs": []
    },
    {
      "cell_type": "code",
      "source": [],
      "metadata": {
        "id": "8T5foAvA2rgj"
      },
      "execution_count": null,
      "outputs": []
    },
    {
      "cell_type": "code",
      "source": [],
      "metadata": {
        "id": "-fB4Vxp-2reJ"
      },
      "execution_count": null,
      "outputs": []
    },
    {
      "cell_type": "code",
      "source": [],
      "metadata": {
        "id": "plBWMNZh2rbx"
      },
      "execution_count": null,
      "outputs": []
    },
    {
      "cell_type": "code",
      "source": [],
      "metadata": {
        "id": "pqlNQsdq2rZX"
      },
      "execution_count": null,
      "outputs": []
    },
    {
      "cell_type": "code",
      "source": [],
      "metadata": {
        "id": "qCUCbiu92rW_"
      },
      "execution_count": null,
      "outputs": []
    },
    {
      "cell_type": "code",
      "source": [],
      "metadata": {
        "id": "VQpiGxMD2rUW"
      },
      "execution_count": null,
      "outputs": []
    }
  ]
}